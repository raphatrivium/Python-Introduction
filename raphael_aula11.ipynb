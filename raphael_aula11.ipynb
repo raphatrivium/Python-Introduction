{
  "nbformat": 4,
  "nbformat_minor": 0,
  "metadata": {
    "colab": {
      "name": "raphael_aula11.ipynb",
      "provenance": [],
      "collapsed_sections": [],
      "authorship_tag": "ABX9TyMKMpzePS8h/MKrzXAtQMbV",
      "include_colab_link": true
    },
    "kernelspec": {
      "name": "python3",
      "display_name": "Python 3"
    }
  },
  "cells": [
    {
      "cell_type": "markdown",
      "metadata": {
        "id": "view-in-github",
        "colab_type": "text"
      },
      "source": [
        "<a href=\"https://colab.research.google.com/github/raphatrivium/Python-Introduction/blob/main/raphael_aula11.ipynb\" target=\"_parent\"><img src=\"https://colab.research.google.com/assets/colab-badge.svg\" alt=\"Open In Colab\"/></a>"
      ]
    },
    {
      "cell_type": "markdown",
      "metadata": {
        "id": "2yumUeVGIx8K"
      },
      "source": [
        "1) Utilizando dicionários e o método ***get***, contrua a seguinte matriz em python e acesse os valores de índices (0,3), (2,1), (4,3) e (2,2).\n",
        "![matrix](https://github.com/malbouis/Python_intro/blob/master/aulas_2019/pics/matrix_aula12.png?raw=1)"
      ]
    },
    {
      "cell_type": "code",
      "metadata": {
        "colab": {
          "base_uri": "https://localhost:8080/"
        },
        "id": "l6fWFm-kI0RW",
        "outputId": "cbf3d8f9-0d47-4e8f-93f6-8e98a241a3c3"
      },
      "source": [
        "matrix = {(0, 0): 0, (0, 1): 0, (0, 2): 0, (0, 3): 1, (0, 4): 0, (1, 0): 0, (1, 1): 0, (1, 2): 0, (1, 3): 1, (1, 4): 0, (2, 0): 0, (2, 1): 2, (2, 2): 0, (2, 3): 0, (2, 4): 0, (3, 0): 0, (3, 1): 0, (3, 2): 0, (3, 3): 1, (3, 4): 0, (4, 0): 0, (4, 1): 0, (4, 2): 0, (4, 3): 3, (4, 4): 0}\n",
        "\n",
        "def indice_valor(x,y):\n",
        "  print('Valor do índice (',x,',',y,'):', matrix.get((x,y)))\n",
        "\n",
        "indice_valor(0,3)\n",
        "indice_valor(2,1)\n",
        "indice_valor(4,3)\n",
        "indice_valor(2,2)"
      ],
      "execution_count": 10,
      "outputs": [
        {
          "output_type": "stream",
          "text": [
            "Valor do índice ( 0 , 3 ): 1\n",
            "Valor do índice ( 2 , 1 ): 2\n",
            "Valor do índice ( 4 , 3 ): 3\n",
            "Valor do índice ( 2 , 2 ): 0\n"
          ],
          "name": "stdout"
        }
      ]
    },
    {
      "cell_type": "markdown",
      "metadata": {
        "id": "3VIIxiC1Ll5y"
      },
      "source": [
        "2) Contagem de Letras. \n",
        "\n",
        "a) Utilizando dicionários, escreva uma função que tome como argumento uma palavra (string) e  retorne um dicionário que tem como ***key*** a letra da palavra e como valor o número de vezes que ela aparece na palavra. Tal dicionário é chamado de **tabela de frequência**.\n",
        "***Dica***: Utilize o método ***get*** dos dicionários.\n",
        "\n"
      ]
    },
    {
      "cell_type": "code",
      "metadata": {
        "colab": {
          "base_uri": "https://localhost:8080/"
        },
        "id": "DKOHw56BPf7A",
        "outputId": "accdaf57-67cf-4065-d65a-dfb9f254b6eb"
      },
      "source": [
        "def frequencia(test_str):\n",
        "  all_freq = {} # atribuição de criação de um dicionário vazio\n",
        "  for i in test_str: \n",
        "      if i in all_freq: \n",
        "          all_freq[i] += 1\n",
        "      else: \n",
        "          all_freq[i] = 1\n",
        "  print ('Count of all characters in',test_str,' is :\\n '+  str(all_freq) )\n",
        "\n",
        "frequencia(\"GeeksforGeeks\")"
      ],
      "execution_count": null,
      "outputs": [
        {
          "output_type": "stream",
          "text": [
            "Count of all characters in GeeksforGeeks  is :\n",
            " {'G': 2, 'e': 4, 'k': 2, 's': 2, 'f': 1, 'o': 1, 'r': 1}\n"
          ],
          "name": "stdout"
        }
      ]
    },
    {
      "cell_type": "markdown",
      "metadata": {
        "id": "UtWx59BVYmOc"
      },
      "source": [
        "b) Utilizando os métodos sort() (referente a listas) e items() (referente a dicionários), imprima na tela uma lista ordenada alfabeticamente da tabela de frequência obtida no item a)."
      ]
    },
    {
      "cell_type": "code",
      "metadata": {
        "colab": {
          "base_uri": "https://localhost:8080/"
        },
        "id": "yFPuwUnYYnli",
        "outputId": "599ca23a-0620-49fd-acb0-b65d4e8e9e43"
      },
      "source": [
        "print (\"Keys and Values sorted in alphabetical order by the value\") \n",
        "print(sorted(all_freq.items(), key = lambda kv:(kv[1], kv[0])))"
      ],
      "execution_count": null,
      "outputs": [
        {
          "output_type": "stream",
          "text": [
            "Keys and Values sorted in alphabetical order by the value\n",
            "[('f', 1), ('o', 1), ('r', 1), ('G', 2), ('k', 2), ('s', 2), ('e', 4)]\n"
          ],
          "name": "stdout"
        }
      ]
    },
    {
      "cell_type": "markdown",
      "metadata": {
        "id": "zrT5nt5qbplA"
      },
      "source": [
        "3) Escreva um programa que leia uma string e retorne uma tabela das letras do alfabeto em ordem alfabética que ocorrem na string junto com o número de vezes que cada letra ocorre. Letras maiúsculas devem deve ser ignoradas.\n"
      ]
    },
    {
      "cell_type": "code",
      "metadata": {
        "id": "9Cs2pkSHbsfZ",
        "colab": {
          "base_uri": "https://localhost:8080/"
        },
        "outputId": "7d5f871f-742c-4eaf-aaf5-e6434c44a8bb"
      },
      "source": [
        "def frequencia(test_str):\n",
        "  all_freq = {} # atribuição de criação de um dicionário vazio\n",
        "  for i in test_str: \n",
        "      if i in all_freq: \n",
        "          all_freq[i] += 1\n",
        "      else: \n",
        "          all_freq[i] = 1\n",
        "  for k in sorted (all_freq.keys(), key=lambda v: v.upper()) :\n",
        "      print(k, all_freq.get(k)  )\n",
        "frequencia(\"Stalingrado\")"
      ],
      "execution_count": 22,
      "outputs": [
        {
          "output_type": "stream",
          "text": [
            "a 2\n",
            "d 1\n",
            "g 1\n",
            "i 1\n",
            "l 1\n",
            "n 1\n",
            "o 1\n",
            "r 1\n",
            "S 1\n",
            "t 1\n"
          ],
          "name": "stdout"
        }
      ]
    }
  ]
}