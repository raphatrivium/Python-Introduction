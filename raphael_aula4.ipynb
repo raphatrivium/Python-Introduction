{
  "nbformat": 4,
  "nbformat_minor": 0,
  "metadata": {
    "kernelspec": {
      "display_name": "Python 3",
      "language": "python",
      "name": "python3"
    },
    "language_info": {
      "codemirror_mode": {
        "name": "ipython",
        "version": 3
      },
      "file_extension": ".py",
      "mimetype": "text/x-python",
      "name": "python",
      "nbconvert_exporter": "python",
      "pygments_lexer": "ipython3",
      "version": "3.6.4"
    },
    "colab": {
      "name": "raphael_aula4.ipynb",
      "provenance": [],
      "include_colab_link": true
    }
  },
  "cells": [
    {
      "cell_type": "markdown",
      "metadata": {
        "id": "view-in-github",
        "colab_type": "text"
      },
      "source": [
        "<a href=\"https://colab.research.google.com/github/raphatrivium/Python-Introduction/blob/main/raphael_aula4.ipynb\" target=\"_parent\"><img src=\"https://colab.research.google.com/assets/colab-badge.svg\" alt=\"Open In Colab\"/></a>"
      ]
    },
    {
      "cell_type": "markdown",
      "metadata": {
        "id": "VxatLfRCbeWf"
      },
      "source": [
        "### Exercício:\n",
        "\n",
        "   * Um objeto de função é um valor que você pode atribuir a uma variável ou passar como um argumento. Por exemplo, ```do_twice``` é uma função que usa um objeto de função como argumento e o chama duas vezes:"
      ]
    },
    {
      "cell_type": "code",
      "metadata": {
        "id": "SvnfZm53blcu"
      },
      "source": [
        "def do_twice (f): \n",
        "    f () \n",
        "    f ()"
      ],
      "execution_count": null,
      "outputs": []
    },
    {
      "cell_type": "markdown",
      "metadata": {
        "id": "lbP8VjuQzVdu"
      },
      "source": [
        "Aqui está um exemplo que usa ```do_twice``` para chamar uma função chamada ```print_spam``` duas vezes.\n"
      ]
    },
    {
      "cell_type": "code",
      "metadata": {
        "id": "-h-QwkrvzVdw",
        "outputId": "d1c000da-6846-4e79-fc66-2d3dde3b4771"
      },
      "source": [
        "def print_spam (): \n",
        "    print('spam') \n",
        "\n",
        "do_twice (print_spam)"
      ],
      "execution_count": null,
      "outputs": [
        {
          "output_type": "stream",
          "text": [
            "spam\n",
            "spam\n"
          ],
          "name": "stdout"
        }
      ]
    },
    {
      "cell_type": "markdown",
      "metadata": {
        "id": "DL4IUvnOzVdz"
      },
      "source": [
        "\n",
        "\n",
        "Digite este exemplo em um script e teste-o.\n",
        "Modifique ```do_twice``` para que sejam necessários dois argumentos, um objeto de função e um valor, e chame a função duas vezes, passando o valor como um argumento.\n",
        "\n",
        "Escreva uma versão mais geral de ```print_spam```, chamada ```print_twice```, que use uma _string_ como parâmetro e imprima duas vezes.\n",
        "Use a versão modificada de ``` do_twice``` para chamar ```print_twice``` duas vezes, passando ```'spam'``` como um argumento.\n",
        "Defina uma nova função chamada ```do_four``` que recebe um objeto de função e um valor e chama a função ___quatro___ vezes, passando o valor como um parâmetro. Deve haver apenas duas declarações no corpo desta função, não quatro.\n",
        "\n",
        "  "
      ]
    },
    {
      "cell_type": "markdown",
      "metadata": {
        "id": "XJPOxWXqzVdz"
      },
      "source": [
        "Esta aula foi tomada quase íntegramente do livro ThinkPython, capítulo 3 http://greenteapress.com/thinkpython/html/thinkpython004.html\n"
      ]
    },
    {
      "cell_type": "code",
      "metadata": {
        "id": "sxk9rLILbp6E",
        "outputId": "b1fabd16-62de-4ad5-fae4-573cb17be7a3",
        "colab": {
          "base_uri": "https://localhost:8080/",
          "height": 121
        }
      },
      "source": [
        "def do_twice (f, valor): \n",
        "    f (valor)\n",
        "    f (valor)\n",
        "def print_twice (p_string): \n",
        "    print(p_string)\n",
        "    \n",
        "do_twice (print_twice, 'spam')\n",
        "\n",
        "def do_four (f, valor):\n",
        "    do_twice (f,valor)\n",
        "    do_twice (f,valor)\n",
        "\n",
        "do_four (print_twice, 'spam')"
      ],
      "execution_count": null,
      "outputs": [
        {
          "output_type": "stream",
          "text": [
            "spam\n",
            "spam\n",
            "spam\n",
            "spam\n",
            "spam\n",
            "spam\n"
          ],
          "name": "stdout"
        }
      ]
    }
  ]
}