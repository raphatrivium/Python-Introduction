{
  "nbformat": 4,
  "nbformat_minor": 0,
  "metadata": {
    "colab": {
      "name": "projeto_raphael.ipynb",
      "provenance": [],
      "authorship_tag": "ABX9TyPY8OD0WP+E66wp9uVejKrl",
      "include_colab_link": true
    },
    "kernelspec": {
      "name": "python3",
      "display_name": "Python 3"
    }
  },
  "cells": [
    {
      "cell_type": "markdown",
      "metadata": {
        "id": "view-in-github",
        "colab_type": "text"
      },
      "source": [
        "<a href=\"https://colab.research.google.com/github/raphatrivium/Python-Introduction/blob/main/projeto_raphael.ipynb\" target=\"_parent\"><img src=\"https://colab.research.google.com/assets/colab-badge.svg\" alt=\"Open In Colab\"/></a>"
      ]
    },
    {
      "cell_type": "markdown",
      "metadata": {
        "id": "8LeHqq32eC57"
      },
      "source": [
        "O projeto2consiste em calcular a distribui ̧c ̃ao diferencial da energia de um m ́uonpassando pelo cobre e integrar a equa ̧c ̃ao para obter a perda total de energia porioniza ̧c ̃ao.Inicialmente ser ́a explorada a rela ̧c ̃ao entreβ3,γ4eβγ, onde as part ́ıculas carregadasir ̃ao variar de fracamente relativ ́ısticas (β= 0,1) a ultra-relativ ́ısticas (γ= 100).  Emseguida, a equa ̧c ̃ao de Bethe-Bloch ser ́a constru ́ıda um peda ̧co de cada vez."
      ]
    },
    {
      "cell_type": "markdown",
      "metadata": {
        "id": "-7qMoAVpeHiA"
      },
      "source": [
        "(1)  Escreva uma fun ̧c ̃ao em Python chamada de f_gamma(beta):que tenha como argu-mentoβe retornaγ.  Teste-o para um valor de $\\beta$, como por exemplo, 0,6."
      ]
    }
  ]
}