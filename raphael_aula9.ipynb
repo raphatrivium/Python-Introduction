{
  "nbformat": 4,
  "nbformat_minor": 0,
  "metadata": {
    "colab": {
      "name": "raphael_aula9.ipynb",
      "provenance": [],
      "collapsed_sections": [],
      "authorship_tag": "ABX9TyPdk0Cj2vpjN3DH36Nn0xYs",
      "include_colab_link": true
    },
    "kernelspec": {
      "name": "python3",
      "display_name": "Python 3"
    }
  },
  "cells": [
    {
      "cell_type": "markdown",
      "metadata": {
        "id": "view-in-github",
        "colab_type": "text"
      },
      "source": [
        "<a href=\"https://colab.research.google.com/github/raphatrivium/Python-Introduction/blob/main/raphael_aula9.ipynb\" target=\"_parent\"><img src=\"https://colab.research.google.com/assets/colab-badge.svg\" alt=\"Open In Colab\"/></a>"
      ]
    },
    {
      "cell_type": "markdown",
      "metadata": {
        "id": "UtdISfgndCAG"
      },
      "source": [
        "## Exercícios:\n",
        "\n",
        "1) Utilizando um arquivo de dados com várias colunas (por exemplo, o arquivo ```dados_alunos.txt```), faça um histograma com os dados de cada uma das colunas. **Dica**: utilize o ***matplotlib*** para fazer os histogramas.\n"
      ]
    },
    {
      "cell_type": "code",
      "metadata": {
        "id": "WLWwmQ_BdDA8",
        "outputId": "c754f711-431c-40f6-bc3b-85ce0ab04f80",
        "colab": {
          "base_uri": "https://localhost:8080/",
          "height": 34
        }
      },
      "source": [
        "#Criando uma arquivo com coluna de dados\n",
        "# idade - altura - peso\n",
        "\n",
        "%%writefile dados_alunos.txt\n",
        "18\t1.68\t80\n",
        "21\t1.8\t92\n",
        "18\t1.6\t57\n",
        "17\t1.73\t75\n",
        "18\t1.69\t90\n",
        "17\t1.71\t67"
      ],
      "execution_count": 141,
      "outputs": [
        {
          "output_type": "stream",
          "text": [
            "Overwriting dados_alunos.txt\n"
          ],
          "name": "stdout"
        }
      ]
    },
    {
      "cell_type": "code",
      "metadata": {
        "id": "sayd28AYdiKp",
        "outputId": "fc1650ac-0e88-47f2-e52e-0de5d5b88bde",
        "colab": {
          "base_uri": "https://localhost:8080/",
          "height": 296
        }
      },
      "source": [
        "import matplotlib.pyplot as plt\n",
        "\n",
        "idade = []\n",
        "altura = []\n",
        "peso = []\n",
        "lista = []\n",
        "fin = open('dados_alunos.txt')\n",
        "linhas = fin.readlines()\n",
        "for line in linhas:\n",
        "    #print (line)\n",
        "    column = line.strip().split('\\t')\n",
        "    #print (column)\n",
        "    idade.append(column[0]) #adiciona item à lista\n",
        "    altura.append(column[1])\n",
        "    peso.append(column[2])\n",
        "#type(column)\n",
        "plt.hist(idade, bins=20)\n",
        "plt.xlabel(\"Idade [anos]\")\n",
        "plt.ylabel(\"Frequencia\")\n",
        "#plt.show()"
      ],
      "execution_count": null,
      "outputs": [
        {
          "output_type": "execute_result",
          "data": {
            "text/plain": [
              "Text(0, 0.5, 'Frequencia')"
            ]
          },
          "metadata": {
            "tags": []
          },
          "execution_count": 32
        },
        {
          "output_type": "display_data",
          "data": {
            "image/png": "[encoded data removed]",
            "text/plain": [
              "<Figure size 432x288 with 1 Axes>"
            ]
          },
          "metadata": {
            "tags": [],
            "needs_background": "light"
          }
        }
      ]
    },
    {
      "cell_type": "code",
      "metadata": {
        "id": "tgvPWW8kgnH0",
        "outputId": "630e2467-a959-48e3-c284-e1facda720d1",
        "colab": {
          "base_uri": "https://localhost:8080/",
          "height": 296
        }
      },
      "source": [
        "plt.hist(altura, bins=20)\n",
        "plt.xlabel(\"Altura [m]\")"
      ],
      "execution_count": null,
      "outputs": [
        {
          "output_type": "execute_result",
          "data": {
            "text/plain": [
              "Text(0.5, 0, 'Altura [m]')"
            ]
          },
          "metadata": {
            "tags": []
          },
          "execution_count": 31
        },
        {
          "output_type": "display_data",
          "data": {
            "image/png": "[encoded data removed]",
            "text/plain": [
              "<Figure size 432x288 with 1 Axes>"
            ]
          },
          "metadata": {
            "tags": [],
            "needs_background": "light"
          }
        }
      ]
    },
    {
      "cell_type": "code",
      "metadata": {
        "id": "d50GE4QAg48i",
        "outputId": "9cc56cb1-8bd7-4ec5-d4f6-c5a183ac6d1d",
        "colab": {
          "base_uri": "https://localhost:8080/",
          "height": 296
        }
      },
      "source": [
        "plt.hist(peso, bins=20)\n",
        "plt.xlabel(\"Peso [Kg]\")"
      ],
      "execution_count": null,
      "outputs": [
        {
          "output_type": "execute_result",
          "data": {
            "text/plain": [
              "Text(0.5, 0, 'Peso [Kg]')"
            ]
          },
          "metadata": {
            "tags": []
          },
          "execution_count": 27
        },
        {
          "output_type": "display_data",
          "data": {
            "image/png": "[encoded data removed]",
            "text/plain": [
              "<Figure size 432x288 with 1 Axes>"
            ]
          },
          "metadata": {
            "tags": [],
            "needs_background": "light"
          }
        }
      ]
    },
    {
      "cell_type": "code",
      "metadata": {
        "id": "xElDwn-ylFxc",
        "outputId": "bc71396a-d8d2-4b03-bb9a-fcaeb05f4c60",
        "colab": {
          "base_uri": "https://localhost:8080/",
          "height": 296
        }
      },
      "source": [
        "#Plotar tudo numa mesma célula\n",
        "plt.subplot(1, 2, 1)\n",
        "plt.hist(idade, bins=20)\n",
        "plt.xlabel(\"Idade [anos]\")\n",
        "plt.ylabel(\"Frequencia\")\n",
        "\n",
        "plt.subplot(1, 2, 2)\n",
        "plt.hist(altura, bins=20)\n",
        "plt.xlabel(\"Altura [m]\")\n",
        "\n",
        "#plt.subplot(1, 2, 3)\n",
        "#plt.hist(peso, bins=20)\n",
        "#plt.xlabel(\"Peso [Kg]\")"
      ],
      "execution_count": null,
      "outputs": [
        {
          "output_type": "execute_result",
          "data": {
            "text/plain": [
              "Text(0.5, 0, 'Altura [m]')"
            ]
          },
          "metadata": {
            "tags": []
          },
          "execution_count": 39
        },
        {
          "output_type": "display_data",
          "data": {
            "image/png": "[encoded data removed]",
            "text/plain": [
              "<Figure size 432x288 with 2 Axes>"
            ]
          },
          "metadata": {
            "tags": [],
            "needs_background": "light"
          }
        }
      ]
    },
    {
      "cell_type": "markdown",
      "metadata": {
        "id": "i_-4J7r3ooUf"
      },
      "source": [
        "2) Estude os métodos do módulo ```os``` e faça um script que liste todos os arquivos de um dado diretório assim como de seus subdiretórios. **Dica**: use o método ```walk```."
      ]
    },
    {
      "cell_type": "code",
      "metadata": {
        "id": "jjwrcu6forb1",
        "outputId": "4389b78d-c2c4-453b-c20d-5cd77e866993",
        "colab": {
          "base_uri": "https://localhost:8080/",
          "height": 382
        }
      },
      "source": [
        "#from os import walk\n",
        "import os\n",
        "\n",
        "mypath = '.'\n",
        "for root, dirs, files in os.walk(mypath):\n",
        "    for filename in files:\n",
        "        print(filename)"
      ],
      "execution_count": null,
      "outputs": [
        {
          "output_type": "stream",
          "text": [
            "dados_alunos.txt\n",
            ".last_opt_in_prompt.yaml\n",
            ".last_survey_prompt.yaml\n",
            ".last_update_check.json\n",
            "active_config\n",
            "gce\n",
            "config_sentinel\n",
            ".metricsUUID\n",
            "config_default\n",
            "16.31.46.824031.log\n",
            "16.31.31.333159.log\n",
            "16.30.50.869240.log\n",
            "16.31.46.119103.log\n",
            "16.31.25.706256.log\n",
            "16.31.10.843101.log\n",
            "anscombe.json\n",
            "README.md\n",
            "mnist_test.csv\n",
            "california_housing_test.csv\n",
            "california_housing_train.csv\n",
            "mnist_train_small.csv\n"
          ],
          "name": "stdout"
        }
      ]
    },
    {
      "cell_type": "markdown",
      "metadata": {
        "id": "_HE20r-urL77"
      },
      "source": [
        "3) **Reescreva o script dessa aula, ```lcount.py``` na forma de uma módulo. Qual o valor da variável ```__name__``` quando o módulo é importado?**"
      ]
    },
    {
      "cell_type": "code",
      "metadata": {
        "id": "mKB8ZcX8toiL",
        "outputId": "effb2f37-276e-4afe-c309-dbede279e8a2",
        "colab": {
          "base_uri": "https://localhost:8080/",
          "height": 34
        }
      },
      "source": [
        "%%writefile lcount.py\n",
        "def linecount(filename):\n",
        "    count = 0\n",
        "    for line in open(filename):\n",
        "        count += 1\n",
        "    return count\n",
        "linecount('lcount.py')"
      ],
      "execution_count": null,
      "outputs": [
        {
          "output_type": "stream",
          "text": [
            "Writing lcount.py\n"
          ],
          "name": "stdout"
        }
      ]
    },
    {
      "cell_type": "code",
      "metadata": {
        "id": "AHb6szZctqZU",
        "outputId": "b08a54cd-1273-4a7a-9cb5-39d035165044",
        "colab": {
          "base_uri": "https://localhost:8080/",
          "height": 52
        }
      },
      "source": [
        "import lcount\n",
        "print(__name__)\n",
        "print(type(__name__))"
      ],
      "execution_count": null,
      "outputs": [
        {
          "output_type": "stream",
          "text": [
            "__main__\n",
            "<class 'str'>\n"
          ],
          "name": "stdout"
        }
      ]
    },
    {
      "cell_type": "markdown",
      "metadata": {
        "id": "KoEMDk_-uQTV"
      },
      "source": [
        "4) Escreva uma função chamada ler_arquivos que tome como argumento um nome de arquivo, leia um arquivo com um número qualquer de colunas e retorne um **dicionário** que tenha como *keys* os números das colunas e como valor uma lista dos valores associados a cada coluna do arquivo. Use o arquivo dados_alunos.txt. Caso o arquivo tiver o cabeçalho das colunas, p.ex. dados_alunos_cabecalho.txt, a key deve ser a palavra do cabeçalho.\n",
        "\n",
        "   * Caso não queria usar dicionários, você pode pensar em uma estrutura de dados alternativa para armazenar os dados do arquivo, como por exemplo uma ou mais listas.\n",
        "   * Também pode usar funções já existentes nos módulos de Python `numpy` ou `pandas` para ler arquivos de texto e armazenar nas estruturas desses módulos (`DataFrames` ou `arrays`).\n",
        "   * Adapte a função acima para, se ocorrer um erro ao abrir, ler ou fechar arquivos, o programa capturar a exceção, imprimir uma mensagem de erro e sair."
      ]
    },
    {
      "cell_type": "code",
      "metadata": {
        "id": "uJxYTZo8uRUE",
        "outputId": "62fe5203-6115-4303-9517-74db87fabde7",
        "colab": {
          "base_uri": "https://localhost:8080/",
          "height": 34
        }
      },
      "source": [
        "import os\n",
        "\n",
        "#def ler_arquivos('dados_alunos.txt')\n",
        "idade = [] ; altura = [] ; peso = []\n",
        "\n",
        "fin = open('dados_alunos.txt')\n",
        "linhas = fin.readlines()\n",
        "column = line.strip().split('\\t')\n",
        "\n",
        "for line in linhas:\n",
        "    #print (line)\n",
        "    column = line.strip().split('\\t')\n",
        "    idade.append(column[0]) #adiciona item à lista\n",
        "    altura.append(column[1])\n",
        "    peso.append(column[2])\n",
        "\n",
        "total = [ ['idade', idade], ['altura', altura], ['peso', peso]]\n",
        "dict_total = dict(total)\n",
        "\n",
        "#if 'Yan' in dict_total == False:\n",
        "#  print('Não há colunas com este nome.')\n",
        "#else:\n",
        "#  print(dict_total['peso'])\n",
        "\n",
        "#Problema em generalizar pra N colunas"
      ],
      "execution_count": 83,
      "outputs": [
        {
          "output_type": "stream",
          "text": [
            "3\n"
          ],
          "name": "stdout"
        }
      ]
    },
    {
      "cell_type": "code",
      "metadata": {
        "id": "DNphfL9GCwVI",
        "outputId": "59786642-7632-4940-8762-fe06708067be",
        "colab": {
          "base_uri": "https://localhost:8080/",
          "height": 54
        }
      },
      "source": [
        "import os\n",
        "\n",
        "#def ler_arquivos(name_list): \n",
        "fin = open('dados_alunos.txt')\n",
        "linhas = fin.readlines()\n",
        "column = line.strip().split('\\t')\n",
        "n = len(column)\n",
        "\n",
        "#criando uma lista com n-listas\n",
        "lista_colunas = []\n",
        "for i in range(n):\n",
        "    lista_colunas.append([0])\n",
        "\n",
        "for line in linhas:\n",
        "  column = line.strip().split('\\t')\n",
        "  for i in range(n):\n",
        "    lista_colunas[i].append(column[i])  #adiciona item à lista\n",
        "\n",
        "total = []\n",
        "for i in range(n): \n",
        "  total.append( [str(i+1), lista_colunas[i] ] )\n",
        "\n",
        "dict_total = dict(total)\n",
        "print(dict_total)\n",
        "#return dict_total\n",
        "\n",
        "#dicionario = ler_arquivos('dados_alunos.txt')\n"
      ],
      "execution_count": 145,
      "outputs": [
        {
          "output_type": "stream",
          "text": [
            "{'1': [0, '18', '21', '18', '17', '18', '17'], '2': [0, '1.68', '1.8', '1.6', '1.73', '1.69', '1.71'], '3': [0, '80', '92', '57', '75', '90', '67']}\n"
          ],
          "name": "stdout"
        }
      ]
    }
  ]
}