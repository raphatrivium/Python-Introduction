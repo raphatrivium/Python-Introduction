{
  "nbformat": 4,
  "nbformat_minor": 0,
  "metadata": {
    "colab": {
      "name": "raphael_aula12_13.ipynb",
      "provenance": [],
      "collapsed_sections": [],
      "authorship_tag": "ABX9TyPKhO36+D4EttB8X0YQfVEh",
      "include_colab_link": true
    },
    "kernelspec": {
      "name": "python3",
      "display_name": "Python 3"
    }
  },
  "cells": [
    {
      "cell_type": "markdown",
      "metadata": {
        "id": "view-in-github",
        "colab_type": "text"
      },
      "source": [
        "<a href=\"https://colab.research.google.com/github/raphatrivium/Python-Introduction/blob/main/raphael_aula12_13.ipynb\" target=\"_parent\"><img src=\"https://colab.research.google.com/assets/colab-badge.svg\" alt=\"Open In Colab\"/></a>"
      ]
    },
    {
      "cell_type": "markdown",
      "metadata": {
        "id": "AtZ0ANJ1wS5Q"
      },
      "source": [
        "## Exercícios:\n",
        "\n",
        "1) Escreva uma função que calcula a distância entre dois pontos, usando a classe Ponto que fizemos nessa aula."
      ]
    },
    {
      "cell_type": "code",
      "metadata": {
        "colab": {
          "base_uri": "https://localhost:8080/"
        },
        "id": "obc31xDuwTgp",
        "outputId": "78f05219-bd3a-4401-f998-672c11821760"
      },
      "source": [
        "class Ponto:\n",
        "    \"\"\" Cria um novo Ponto, com coordenadas x, y \"\"\"\n",
        "    def __init__(self, x=0, y=0):\n",
        "        \"\"\" Inicializa em x, y o novo ponto criado pela classe \"\"\"\n",
        "        self.x = x\n",
        "        self.y = y      \n",
        "    def distancia(self, alvo):\n",
        "        \"\"\" Retorna a distancia entre esse ponto e o alvo \"\"\"\n",
        "        mx = abs(self.x - alvo.x)\n",
        "        my = abs(self.y - alvo.y)\n",
        "        return Ponto(mx, my)    \n",
        "    def __str__(self):\n",
        "        return \"({0}, {1})\".format(self.x, self.y)\n",
        "\n",
        "p1 = Ponto(0,0)  ;  p2 = Ponto(2,0)\n",
        "print( p1.distancia(p2) )      "
      ],
      "execution_count": null,
      "outputs": [
        {
          "output_type": "stream",
          "text": [
            "(2, 0)\n"
          ],
          "name": "stdout"
        }
      ]
    },
    {
      "cell_type": "markdown",
      "metadata": {
        "id": "C1XW8B8g44Nr"
      },
      "source": [
        "2) Adicione um método reflexao_x à classe Ponto que retorna uma instância de Ponto, que é o reflexo do Ponto sobre o eixo x. Por exemplo, Point (3, 5) .reflexao_x () é (3, -5)"
      ]
    },
    {
      "cell_type": "code",
      "metadata": {
        "colab": {
          "base_uri": "https://localhost:8080/"
        },
        "id": "yv7sGdv34_VH",
        "outputId": "de61a652-d776-4ffd-8866-6bf51cc29690"
      },
      "source": [
        "class Ponto:\n",
        "    \"\"\" Cria um novo Ponto, com coordenadas x, y \"\"\"\n",
        "    def __init__(self, x=0, y=0):\n",
        "        \"\"\" Inicializa em x, y o novo ponto criado pela classe \"\"\"\n",
        "        self.x = x\n",
        "        self.y = y      \n",
        "    def reflexao_x(self):\n",
        "        \"\"\" Retorna a reflexao em relacao ao eixo-x entre esse ponto e o alvo \"\"\"\n",
        "        mx = -self.x\n",
        "        my = self.y\n",
        "        return Ponto(mx, my)    \n",
        "    def __str__(self):\n",
        "        return \"({0}, {1})\".format(self.x, self.y)\n",
        "\n",
        "p1 = Ponto(2,0)\n",
        "print( p1.reflexao_x() )"
      ],
      "execution_count": null,
      "outputs": [
        {
          "output_type": "stream",
          "text": [
            "(-2, 0)\n"
          ],
          "name": "stdout"
        }
      ]
    },
    {
      "cell_type": "markdown",
      "metadata": {
        "id": "jHg1VccJ7Ime"
      },
      "source": [
        "3) Adicione um método ***inclinacao_da_origem*** à classe Ponto, que retorne a inclinação da linha que une a origem ao Ponto. Por exemplo,"
      ]
    },
    {
      "cell_type": "code",
      "metadata": {
        "colab": {
          "base_uri": "https://localhost:8080/"
        },
        "id": "6mZ6Hlt97JSU",
        "outputId": "d9c6e906-421a-468a-a258-15c8131bfd3b"
      },
      "source": [
        "import math\n",
        "class Ponto:\n",
        "    \"\"\" Cria um novo Ponto, com coordenadas x, y \"\"\"\n",
        "    def __init__(self, x=0, y=0):\n",
        "        \"\"\" Inicializa em x, y o novo ponto criado pela classe \"\"\"\n",
        "        self.x = x\n",
        "        self.y = y\n",
        "    def distancia_da_origem(self):\n",
        "        \"\"\" Calcula minha distânica da origem \"\"\"\n",
        "        return ((self.x ** 2) + (self.y ** 2)) ** 0.5\n",
        "    def inclinacao_da_origem(self):\n",
        "        \"\"\" Retorna a inclinacao da linha que une a origem ao Ponto \"\"\"\n",
        "        tg_theta =  self.y / self.x\n",
        "        theta = math.atan(tg_theta) \n",
        "        return tg_theta     \n",
        "    def __str__(self):\n",
        "        return \"({0}, {1})\".format(self.x, self.y)\n",
        "\n",
        "p1 = Ponto(4,10)  \n",
        "print( p1.inclinacao_da_origem() ) "
      ],
      "execution_count": null,
      "outputs": [
        {
          "output_type": "stream",
          "text": [
            "2.5\n"
          ],
          "name": "stdout"
        }
      ]
    },
    {
      "cell_type": "markdown",
      "metadata": {
        "id": "GCzRZhoqYLXq"
      },
      "source": [
        "O que pode dar errado com esse programa?\n",
        "\n",
        "4) A equação de uma linha reta é “y = ax + b”. Os coeficientes a e b descrevem completamente a reta. Escreva um método na classe Ponto para que, se uma instância Ponto receber outro Ponto, calcule a equação da linha reta que une os dois pontos. Deve retornar os dois coeficientes como uma tupla de dois valores."
      ]
    },
    {
      "cell_type": "code",
      "metadata": {
        "colab": {
          "base_uri": "https://localhost:8080/"
        },
        "id": "ewKQS4IbYMWG",
        "outputId": "80f88871-b4b2-4ddc-9712-05e0151c07f5"
      },
      "source": [
        "class Ponto:\n",
        "    \"\"\" Cria um novo Ponto, com coordenadas x, y \"\"\"\n",
        "    def __init__(self, x=0, y=0):\n",
        "        \"\"\" Inicializa em x, y o novo ponto criado pela classe \"\"\"\n",
        "        self.x = x\n",
        "        self.y = y      \n",
        "    def distancia(self, alvo):\n",
        "        \"\"\" Retorna a distancia entre esse ponto e o alvo \"\"\"\n",
        "        mx = abs(self.x - alvo.x)\n",
        "        my = abs(self.y - alvo.y)\n",
        "        return Ponto(mx, my)\n",
        "    def parametros_reta(self, alvo):\n",
        "        \"\"\" Retorna os parametros da reta \"\"\"\n",
        "        a = abs(self.y - alvo.y) / abs(self.x - alvo.x) \n",
        "        b = self.y - a*self.x\n",
        "        print('y =',a,'x +',b )\n",
        "        ab = {a,b}\n",
        "        return ab \n",
        "    def __str__(self):\n",
        "        return \"({0}, {1})\".format(self.x, self.y)\n",
        "\n",
        "p1 = Ponto(4,11)  ;  p2 = Ponto(6,15)\n",
        "print( p1.parametros_reta(p2) )\n"
      ],
      "execution_count": 1,
      "outputs": [
        {
          "output_type": "stream",
          "text": [
            "y = 2.0 x + 3.0\n",
            "{2.0, 3.0}\n"
          ],
          "name": "stdout"
        }
      ]
    },
    {
      "cell_type": "markdown",
      "metadata": {
        "id": "Fpj2CJQdVOCb"
      },
      "source": [
        "5) Usando a classe Ponto criada na última aula escreva uma classe Retangulo. A definição da classe Retangulo é: Dica: use o método criado no exercício 1)."
      ]
    },
    {
      "cell_type": "code",
      "metadata": {
        "id": "kd_XdhTRVPEd"
      },
      "source": [
        "class Rectangle:\n",
        "    \"\"\" Cria um novo retâângulo, com lados A, B, C, D \"\"\"\n",
        "    def __init__(self, A, B, C, D ):\n",
        "        \"\"\" Inicializa em x, y o novo ponto criado pela classe \"\"\"\n",
        "        self.A = A ; self.B = B ; self.C = C ; self.D = D\n",
        "    def Largura(self, alvo):\n",
        "        \"\"\" Retorna a largura do retangulo \"\"\"\n",
        "        L = abs(self.B - self.D) \n",
        "        return L\n",
        "    def Altura(self, alvo):\n",
        "        \"\"\" Retorna a altura do retangulo \"\"\"\n",
        "        L = abs(self.B - self.D) \n",
        "        return L\n",
        "    def __str__(self):\n",
        "        return \"(({0}, {1}), {2}, {3})\".format(self.A, self.B, self.C, self.D)\n"
      ],
      "execution_count": 26,
      "outputs": []
    },
    {
      "cell_type": "markdown",
      "metadata": {
        "id": "tgaq3xtrXPsx"
      },
      "source": [
        "6) Escreva uma definição para uma classe chamada **Circulo** com atributos ***centro*** e ***raio***, em que ***centro*** é um objeto do tipo **Ponto** e ***raio*** é um número.\n",
        "   * Instancie um objeto **Circulo** que represente um círculo com seu centro em (150, 100) e raio 75 e imprima na tela as coordenadas (x,y) do centro do círculo.\n",
        "   * Escreva uma função chamada ponto_no_circulo que use um Circulo e um Ponto e retorne True se o Ponto estiver dentro do círculo ou no limite do mesmo."
      ]
    },
    {
      "cell_type": "code",
      "metadata": {
        "colab": {
          "base_uri": "https://localhost:8080/"
        },
        "id": "ly38jojeXOt2",
        "outputId": "66f22e2e-de7d-43b8-d8b2-2c53695f19df"
      },
      "source": [
        "class Circle:\n",
        "    def __init__(self, C, R=0):\n",
        "        \"\"\" Inicializa o novo círculo de Centro (x,y) e raio R \"\"\"\n",
        "        self.C = C\n",
        "        self.R = R\n",
        "    def ponto_no_circulo(self, ponto):\n",
        "        \"\"\" Retorna se um ponto está contido no círculo \"\"\"\n",
        "        if ((ponto.y - self.C.y)**2 + (ponto.x - self.C.x)**2)**(0.5) <= self.R:\n",
        "            return True\n",
        "        return False\n",
        "    def __str__(self):\n",
        "        return \"(({0}, {1}), {2})\".format(self.C.x, self.C.y, self.R)\n",
        "\n",
        "print(   Circle(Ponto(150,100), 75)   )\n",
        "circulo.ponto_no_circulo(  Ponto(300,100)   )"
      ],
      "execution_count": 19,
      "outputs": [
        {
          "output_type": "stream",
          "text": [
            "((150, 100), 75)\n"
          ],
          "name": "stdout"
        },
        {
          "output_type": "execute_result",
          "data": {
            "text/plain": [
              "False"
            ]
          },
          "metadata": {
            "tags": []
          },
          "execution_count": 19
        }
      ]
    },
    {
      "cell_type": "markdown",
      "metadata": {
        "id": "6Lr8Aharc6xH"
      },
      "source": [
        "   \n",
        "7) Escreva uma função chamada **desenhar_ret** que use um objeto ***Turtle*** e um ***Retangulo*** e use o Turtle para desenhar o retângulo."
      ]
    },
    {
      "cell_type": "code",
      "metadata": {
        "colab": {
          "base_uri": "https://localhost:8080/",
          "height": 538
        },
        "id": "2QiO-hEwc771",
        "outputId": "7edf4c0d-2cd8-47ef-fefd-c65a96940bf3"
      },
      "source": [
        "# Instala e importa o ColabTurtle\n",
        "!pip3 install ColabTurtle\n",
        "import ColabTurtle\n",
        "import ColabTurtle.Turtle\n",
        "\n",
        "class Rectangle:\n",
        "    \"\"\"Representa um retangulo.\"\"\"\n",
        "    def __init__(self, canto, L=0, A=0):\n",
        "        \"\"\" Inicializa o novo retângulo no ponto \"\"\"\n",
        "        self.canto = canto\n",
        "        self.L = L\n",
        "        self.A = A       \n",
        "    def desenhar_ret(self):\n",
        "        Alice = ColabTurtle.Turtle\n",
        "        Alice.initializeTurtle()\n",
        "        Alice.penup()\n",
        "        Alice.goto(self.canto.x, self.canto.y)\n",
        "        Alice.pendown()\n",
        "        Alice.left(180)\n",
        "        for i in range(4):\n",
        "            if i%2:\n",
        "                Alice.forward(self.L)\n",
        "            else:\n",
        "                Alice.forward(self.A)\n",
        "            Alice.left(90)\n",
        "    def __str__(self):\n",
        "        return \"(({0}, {1}), {2}, {3})\".format(self.canto.x, self.canto.y, self.L, self.A)\n",
        "\n",
        "Rectangle(Ponto(3,4), 400, 200).desenhar_ret()"
      ],
      "execution_count": 27,
      "outputs": [
        {
          "output_type": "stream",
          "text": [
            "Requirement already satisfied: ColabTurtle in /usr/local/lib/python3.6/dist-packages (2.0.0)\n"
          ],
          "name": "stdout"
        },
        {
          "output_type": "display_data",
          "data": {
            "text/html": [
              "\n",
              "      <svg width=\"800\" height=\"500\">\n",
              "        <rect width=\"100%\" height=\"100%\" fill=\"black\"/>\n",
              "        <line x1=\"3\" y1=\"4\" x2=\"3.0000000000000124\" y2=\"204.0\" stroke-linecap=\"round\" style=\"stroke:white;stroke-width:4\"/><line x1=\"3.0000000000000124\" y1=\"204.0\" x2=\"403.0\" y2=\"204.0\" stroke-linecap=\"round\" style=\"stroke:white;stroke-width:4\"/><line x1=\"403.0\" y1=\"204.0\" x2=\"402.99999999999994\" y2=\"4.0\" stroke-linecap=\"round\" style=\"stroke:white;stroke-width:4\"/><line x1=\"402.99999999999994\" y1=\"4.0\" x2=\"2.999999999999943\" y2=\"4.000000000000049\" stroke-linecap=\"round\" style=\"stroke:white;stroke-width:4\"/>\n",
              "        \n",
              "      <g visibility=visible transform=\"rotate(0,2.999999999999943,4.000000000000049) translate(2.999999999999943, 4.000000000000049)\">\n",
              "        <circle stroke=\"white\" stroke-width=\"3\" fill=\"transparent\" r=\"12\" cx=\"0\" cy=\"0\"/>\n",
              "        <polygon points=\"0,19 3,16 -3,16\" style=\"fill:white;stroke:white;stroke-width:2\"/>\n",
              "      </g>\n",
              "    \n",
              "      </svg>\n",
              "    "
            ],
            "text/plain": [
              "<IPython.core.display.HTML object>"
            ]
          },
          "metadata": {
            "tags": []
          }
        }
      ]
    },
    {
      "cell_type": "markdown",
      "metadata": {
        "id": "qtdnjiksf7h4"
      },
      "source": [
        "8) Escreva uma função chamada desenhar_circulo que use uma ***Turtle*** e um ***Circulo*** e desenhe o ***Circulo***."
      ]
    },
    {
      "cell_type": "code",
      "metadata": {
        "colab": {
          "base_uri": "https://localhost:8080/",
          "height": 521
        },
        "id": "kgKIOfNVf_sK",
        "outputId": "5b9672bf-9653-4f5f-e6e1-04e9801936af"
      },
      "source": [
        "import math\n",
        "class Circle:\n",
        "    \"\"\"Representa um círculo.\"\"\"\n",
        "    def __init__(self, C, R=0):\n",
        "        \"\"\" Inicializa o novo círculo de Centro (x,y) e raio R \"\"\"\n",
        "        self.C = C\n",
        "        self.R = R\n",
        "    def ponto_no_circulo(self, ponto):\n",
        "        \"\"\" Retorna se um ponto está contido no círculo \"\"\"\n",
        "        if ((ponto.y - self.C.y)**2 + (ponto.x - self.C.x)**2)**(0.5) <= self.R:\n",
        "            return True\n",
        "        return False\n",
        "    def desenhar_circulo(self):\n",
        "        Alice = ColabTurtle.Turtle\n",
        "        Alice.initializeTurtle()\n",
        "        Alice.penup()\n",
        "        Alice.goto(self.C.x, self.C.y)\n",
        "        Alice.forward(self.R)\n",
        "        Alice.left(90)\n",
        "        Alice.speed(10)\n",
        "        Alice.pendown()       \n",
        "        L = 2*math.pi*self.R #comprimento (Length)\n",
        "        n = 60 # numer ode lados\n",
        "        length = int( L / n )\n",
        "        alfa = 360/n\n",
        "        for i in range(n):\n",
        "            Alice.forward(length)\n",
        "            Alice.left(alfa)\n",
        "\n",
        "    def __str__(self):\n",
        "        return \"(({0}, {1}), {2})\".format(self.C.x, self.C.y, self.R)\n",
        "\n",
        "Circle(Ponto(150,100), 75).desenhar_circulo()"
      ],
      "execution_count": 24,
      "outputs": [
        {
          "output_type": "display_data",
          "data": {
            "text/html": [
              "\n",
              "      <svg width=\"800\" height=\"500\">\n",
              "        <rect width=\"100%\" height=\"100%\" fill=\"black\"/>\n",
              "        <line x1=\"150.0\" y1=\"25.0\" x2=\"143.0\" y2=\"25.0\" stroke-linecap=\"round\" style=\"stroke:white;stroke-width:4\"/><line x1=\"143.0\" y1=\"25.0\" x2=\"136.0383467324221\" y2=\"25.731699242873574\" stroke-linecap=\"round\" style=\"stroke:white;stroke-width:4\"/><line x1=\"136.0383467324221\" y1=\"25.731699242873574\" x2=\"129.19131352728544\" y2=\"27.18708107859789\" stroke-linecap=\"round\" style=\"stroke:white;stroke-width:4\"/><line x1=\"129.19131352728544\" y1=\"27.18708107859789\" x2=\"122.53391791321937\" y2=\"29.35020003922252\" stroke-linecap=\"round\" style=\"stroke:white;stroke-width:4\"/><line x1=\"122.53391791321937\" y1=\"29.35020003922252\" x2=\"116.13909970972117\" y2=\"32.19735654075313\" stroke-linecap=\"round\" style=\"stroke:white;stroke-width:4\"/><line x1=\"116.13909970972117\" y1=\"32.19735654075313\" x2=\"110.0769218832301\" y2=\"35.69735654075313\" stroke-linecap=\"round\" style=\"stroke:white;stroke-width:4\"/><line x1=\"110.0769218832301\" y1=\"35.69735654075313\" x2=\"104.41380292260547\" y2=\"39.81185330680044\" stroke-linecap=\"round\" style=\"stroke:white;stroke-width:4\"/><line x1=\"104.41380292260547\" y1=\"39.81185330680044\" x2=\"99.21178914426372\" y2=\"44.49576755131245\" stroke-linecap=\"round\" style=\"stroke:white;stroke-width:4\"/><line x1=\"99.21178914426372\" y1=\"44.49576755131245\" x2=\"94.52787489975171\" y2=\"49.697781329654205\" stroke-linecap=\"round\" style=\"stroke:white;stroke-width:4\"/><line x1=\"94.52787489975171\" y1=\"49.697781329654205\" x2=\"90.4133781337044\" y2=\"55.360900290278835\" stroke-linecap=\"round\" style=\"stroke:white;stroke-width:4\"/><line x1=\"90.4133781337044\" y1=\"55.360900290278835\" x2=\"86.9133781337044\" y2=\"61.42307811676991\" stroke-linecap=\"round\" style=\"stroke:white;stroke-width:4\"/><line x1=\"86.9133781337044\" y1=\"61.42307811676991\" x2=\"84.0662216321738\" y2=\"67.81789632026812\" stroke-linecap=\"round\" style=\"stroke:white;stroke-width:4\"/><line x1=\"84.0662216321738\" y1=\"67.81789632026812\" x2=\"81.90310267154916\" y2=\"74.4752919343342\" stroke-linecap=\"round\" style=\"stroke:white;stroke-width:4\"/><line x1=\"81.90310267154916\" y1=\"74.4752919343342\" x2=\"80.44772083582485\" y2=\"81.32232513947083\" stroke-linecap=\"round\" style=\"stroke:white;stroke-width:4\"/><line x1=\"80.44772083582485\" y1=\"81.32232513947083\" x2=\"79.71602159295128\" y2=\"88.28397840704875\" stroke-linecap=\"round\" style=\"stroke:white;stroke-width:4\"/><line x1=\"79.71602159295128\" y1=\"88.28397840704875\" x2=\"79.71602159295128\" y2=\"95.28397840704875\" stroke-linecap=\"round\" style=\"stroke:white;stroke-width:4\"/><line x1=\"79.71602159295128\" y1=\"95.28397840704875\" x2=\"80.44772083582485\" y2=\"102.24563167462667\" stroke-linecap=\"round\" style=\"stroke:white;stroke-width:4\"/><line x1=\"80.44772083582485\" y1=\"102.24563167462667\" x2=\"81.90310267154916\" y2=\"109.0926648797633\" stroke-linecap=\"round\" style=\"stroke:white;stroke-width:4\"/><line x1=\"81.90310267154916\" y1=\"109.0926648797633\" x2=\"84.0662216321738\" y2=\"115.75006049382938\" stroke-linecap=\"round\" style=\"stroke:white;stroke-width:4\"/><line x1=\"84.0662216321738\" y1=\"115.75006049382938\" x2=\"86.9133781337044\" y2=\"122.14487869732758\" stroke-linecap=\"round\" style=\"stroke:white;stroke-width:4\"/><line x1=\"86.9133781337044\" y1=\"122.14487869732758\" x2=\"90.4133781337044\" y2=\"128.20705652381866\" stroke-linecap=\"round\" style=\"stroke:white;stroke-width:4\"/><line x1=\"90.4133781337044\" y1=\"128.20705652381866\" x2=\"94.52787489975171\" y2=\"133.8701754844433\" stroke-linecap=\"round\" style=\"stroke:white;stroke-width:4\"/><line x1=\"94.52787489975171\" y1=\"133.8701754844433\" x2=\"99.21178914426372\" y2=\"139.07218926278506\" stroke-linecap=\"round\" style=\"stroke:white;stroke-width:4\"/><line x1=\"99.21178914426372\" y1=\"139.07218926278506\" x2=\"104.41380292260548\" y2=\"143.75610350729707\" stroke-linecap=\"round\" style=\"stroke:white;stroke-width:4\"/><line x1=\"104.41380292260548\" y1=\"143.75610350729707\" x2=\"110.07692188323011\" y2=\"147.8706002733444\" stroke-linecap=\"round\" style=\"stroke:white;stroke-width:4\"/><line x1=\"110.07692188323011\" y1=\"147.8706002733444\" x2=\"116.13909970972118\" y2=\"151.3706002733444\" stroke-linecap=\"round\" style=\"stroke:white;stroke-width:4\"/><line x1=\"116.13909970972118\" y1=\"151.3706002733444\" x2=\"122.53391791321938\" y2=\"154.217756774875\" stroke-linecap=\"round\" style=\"stroke:white;stroke-width:4\"/><line x1=\"122.53391791321938\" y1=\"154.217756774875\" x2=\"129.19131352728544\" y2=\"156.38087573549964\" stroke-linecap=\"round\" style=\"stroke:white;stroke-width:4\"/><line x1=\"129.19131352728544\" y1=\"156.38087573549964\" x2=\"136.0383467324221\" y2=\"157.83625757122397\" stroke-linecap=\"round\" style=\"stroke:white;stroke-width:4\"/><line x1=\"136.0383467324221\" y1=\"157.83625757122397\" x2=\"143.0\" y2=\"158.56795681409753\" stroke-linecap=\"round\" style=\"stroke:white;stroke-width:4\"/><line x1=\"143.0\" y1=\"158.56795681409753\" x2=\"150.0\" y2=\"158.56795681409753\" stroke-linecap=\"round\" style=\"stroke:white;stroke-width:4\"/><line x1=\"150.0\" y1=\"158.56795681409753\" x2=\"156.9616532675779\" y2=\"157.83625757122397\" stroke-linecap=\"round\" style=\"stroke:white;stroke-width:4\"/><line x1=\"156.9616532675779\" y1=\"157.83625757122397\" x2=\"163.80868647271453\" y2=\"156.38087573549964\" stroke-linecap=\"round\" style=\"stroke:white;stroke-width:4\"/><line x1=\"163.80868647271453\" y1=\"156.38087573549964\" x2=\"170.4660820867806\" y2=\"154.217756774875\" stroke-linecap=\"round\" style=\"stroke:white;stroke-width:4\"/><line x1=\"170.4660820867806\" y1=\"154.217756774875\" x2=\"176.8609002902788\" y2=\"151.3706002733444\" stroke-linecap=\"round\" style=\"stroke:white;stroke-width:4\"/><line x1=\"176.8609002902788\" y1=\"151.3706002733444\" x2=\"182.9230781167699\" y2=\"147.8706002733444\" stroke-linecap=\"round\" style=\"stroke:white;stroke-width:4\"/><line x1=\"182.9230781167699\" y1=\"147.8706002733444\" x2=\"188.58619707739453\" y2=\"143.75610350729707\" stroke-linecap=\"round\" style=\"stroke:white;stroke-width:4\"/><line x1=\"188.58619707739453\" y1=\"143.75610350729707\" x2=\"193.78821085573628\" y2=\"139.07218926278506\" stroke-linecap=\"round\" style=\"stroke:white;stroke-width:4\"/><line x1=\"193.78821085573628\" y1=\"139.07218926278506\" x2=\"198.4721251002483\" y2=\"133.8701754844433\" stroke-linecap=\"round\" style=\"stroke:white;stroke-width:4\"/><line x1=\"198.4721251002483\" y1=\"133.8701754844433\" x2=\"202.58662186629562\" y2=\"128.20705652381866\" stroke-linecap=\"round\" style=\"stroke:white;stroke-width:4\"/><line x1=\"202.58662186629562\" y1=\"128.20705652381866\" x2=\"206.08662186629562\" y2=\"122.1448786973276\" stroke-linecap=\"round\" style=\"stroke:white;stroke-width:4\"/><line x1=\"206.08662186629562\" y1=\"122.1448786973276\" x2=\"208.93377836782622\" y2=\"115.7500604938294\" stroke-linecap=\"round\" style=\"stroke:white;stroke-width:4\"/><line x1=\"208.93377836782622\" y1=\"115.7500604938294\" x2=\"211.09689732845086\" y2=\"109.09266487976332\" stroke-linecap=\"round\" style=\"stroke:white;stroke-width:4\"/><line x1=\"211.09689732845086\" y1=\"109.09266487976332\" x2=\"212.5522791641752\" y2=\"102.24563167462668\" stroke-linecap=\"round\" style=\"stroke:white;stroke-width:4\"/><line x1=\"212.5522791641752\" y1=\"102.24563167462668\" x2=\"213.28397840704875\" y2=\"95.28397840704876\" stroke-linecap=\"round\" style=\"stroke:white;stroke-width:4\"/><line x1=\"213.28397840704875\" y1=\"95.28397840704876\" x2=\"213.28397840704875\" y2=\"88.28397840704876\" stroke-linecap=\"round\" style=\"stroke:white;stroke-width:4\"/><line x1=\"213.28397840704875\" y1=\"88.28397840704876\" x2=\"212.5522791641752\" y2=\"81.32232513947085\" stroke-linecap=\"round\" style=\"stroke:white;stroke-width:4\"/><line x1=\"212.5522791641752\" y1=\"81.32232513947085\" x2=\"211.09689732845086\" y2=\"74.47529193433421\" stroke-linecap=\"round\" style=\"stroke:white;stroke-width:4\"/><line x1=\"211.09689732845086\" y1=\"74.47529193433421\" x2=\"208.93377836782622\" y2=\"67.81789632026813\" stroke-linecap=\"round\" style=\"stroke:white;stroke-width:4\"/><line x1=\"208.93377836782622\" y1=\"67.81789632026813\" x2=\"206.08662186629562\" y2=\"61.42307811676993\" stroke-linecap=\"round\" style=\"stroke:white;stroke-width:4\"/><line x1=\"206.08662186629562\" y1=\"61.42307811676993\" x2=\"202.58662186629562\" y2=\"55.36090029027886\" stroke-linecap=\"round\" style=\"stroke:white;stroke-width:4\"/><line x1=\"202.58662186629562\" y1=\"55.36090029027886\" x2=\"198.4721251002483\" y2=\"49.697781329654234\" stroke-linecap=\"round\" style=\"stroke:white;stroke-width:4\"/><line x1=\"198.4721251002483\" y1=\"49.697781329654234\" x2=\"193.78821085573628\" y2=\"44.495767551312476\" stroke-linecap=\"round\" style=\"stroke:white;stroke-width:4\"/><line x1=\"193.78821085573628\" y1=\"44.495767551312476\" x2=\"188.58619707739453\" y2=\"39.811853306800465\" stroke-linecap=\"round\" style=\"stroke:white;stroke-width:4\"/><line x1=\"188.58619707739453\" y1=\"39.811853306800465\" x2=\"182.9230781167699\" y2=\"35.697356540753155\" stroke-linecap=\"round\" style=\"stroke:white;stroke-width:4\"/><line x1=\"182.9230781167699\" y1=\"35.697356540753155\" x2=\"176.8609002902788\" y2=\"32.197356540753155\" stroke-linecap=\"round\" style=\"stroke:white;stroke-width:4\"/><line x1=\"176.8609002902788\" y1=\"32.197356540753155\" x2=\"170.4660820867806\" y2=\"29.350200039222553\" stroke-linecap=\"round\" style=\"stroke:white;stroke-width:4\"/><line x1=\"170.4660820867806\" y1=\"29.350200039222553\" x2=\"163.80868647271453\" y2=\"27.187081078597924\" stroke-linecap=\"round\" style=\"stroke:white;stroke-width:4\"/><line x1=\"163.80868647271453\" y1=\"27.187081078597924\" x2=\"156.9616532675779\" y2=\"25.731699242873606\" stroke-linecap=\"round\" style=\"stroke:white;stroke-width:4\"/><line x1=\"156.9616532675779\" y1=\"25.731699242873606\" x2=\"150.0\" y2=\"25.000000000000032\" stroke-linecap=\"round\" style=\"stroke:white;stroke-width:4\"/>\n",
              "        \n",
              "      <g visibility=visible transform=\"rotate(90.0,150.0,25.000000000000032) translate(150.0, 25.000000000000032)\">\n",
              "        <circle stroke=\"white\" stroke-width=\"3\" fill=\"transparent\" r=\"12\" cx=\"0\" cy=\"0\"/>\n",
              "        <polygon points=\"0,19 3,16 -3,16\" style=\"fill:white;stroke:white;stroke-width:2\"/>\n",
              "      </g>\n",
              "    \n",
              "      </svg>\n",
              "    "
            ],
            "text/plain": [
              "<IPython.core.display.HTML object>"
            ]
          },
          "metadata": {
            "tags": []
          }
        }
      ]
    }
  ]
}