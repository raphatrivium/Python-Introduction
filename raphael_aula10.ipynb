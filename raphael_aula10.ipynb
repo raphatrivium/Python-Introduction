{
  "nbformat": 4,
  "nbformat_minor": 0,
  "metadata": {
    "colab": {
      "name": "raphael_aula10.ipynb",
      "provenance": [],
      "collapsed_sections": [],
      "authorship_tag": "ABX9TyN6+9Dz3HOHe+kYB2KxY4Xy",
      "include_colab_link": true
    },
    "kernelspec": {
      "name": "python3",
      "display_name": "Python 3"
    }
  },
  "cells": [
    {
      "cell_type": "markdown",
      "metadata": {
        "id": "view-in-github",
        "colab_type": "text"
      },
      "source": [
        "<a href=\"https://colab.research.google.com/github/raphatrivium/Python-Introduction/blob/main/raphael_aula10.ipynb\" target=\"_parent\"><img src=\"https://colab.research.google.com/assets/colab-badge.svg\" alt=\"Open In Colab\"/></a>"
      ]
    },
    {
      "cell_type": "markdown",
      "metadata": {
        "id": "OL8xw_oZSzUI"
      },
      "source": [
        "## Exercícios\n",
        "\n",
        "1. Quantos intervalos (ou qual largura de intervalo) é preciso implementar para ter uma precisão de 1% no resultado numérico na integração de $f(x)$ de 0 a 10? \n",
        "\n",
        "$\\dfrac{R_{num}-R_{an}}{R_{an}} \\leq 1\\% $\n",
        "\n",
        "$f(x) = \\mathrm{e}^{-x}  \\Rightarrow \\qquad \\int ^{10}_{0} f(x)dx = -1* \\left(\\mathrm{e}^{-10} - \\mathrm{e}^{0}\\right)  = 0.9999546000702375$"
      ]
    },
    {
      "cell_type": "code",
      "metadata": {
        "id": "OGWpq4tvS0ZW",
        "outputId": "e6c32c37-f550-4fd4-db16-5edc624a67f1",
        "colab": {
          "base_uri": "https://localhost:8080/"
        }
      },
      "source": [
        "import math\n",
        "import numpy as np\n",
        "\n",
        "def f(x):\n",
        "  return math.exp(-x)\n",
        "\n",
        "res_analit = 0.9999546000702375\n",
        "compatibilidade = 10000 \n",
        "x_i = 0 ; x_f = 10 ; dx = 1\n",
        "\n",
        "while compatibilidade > 1/100:  \n",
        "  if dx < 0:\n",
        "    break   \n",
        "  x = np.arange(x_i,x_f,dx)\n",
        "  S = 0\n",
        "  for i in x:\n",
        "      S += f(i)*dx  \n",
        "  compatibilidade = (S - res_analit)/res_analit\n",
        "  print(S , compatibilidade )\n",
        "  #dx = dx - 0.01 # passo\n",
        "  dx = dx/10 # passo\n",
        "\n",
        "print('Soma de', round((x_f-x_i)/dx) ,'caixinhas = ',S)\n",
        "print('compatibilidade:', round(compatibilidade,4),'< 1%')\n",
        "print('largura:',S/(abs(x_f-x_i)/dx))\n",
        "\n",
        "#import matplotlib.pyplot as plt\n",
        "#x = range(x_i,x_f)\n",
        "#y = [math.exp(-xi) for xi in x]  # isto se chama \"list comprehension\"\n",
        "#plt.bar(x,y,color=\"red\",align=\"edge\",width= 1 )\n",
        "#x1 = np.linspace(x_i, x_f, 1000) # intervalo de 0 a 10, com 1000 divisões\n",
        "#y1=[math.exp(-xi) for xi in x1]\n",
        "#plt.plot(x1,y1)\n",
        "#plt.show()"
      ],
      "execution_count": null,
      "outputs": [
        {
          "output_type": "stream",
          "text": [
            "1.5819048852379485 0.5819767068693262\n",
            "1.0507854867242843 0.050833194477505665\n",
            "1.0049627060117017 0.005008333319445099\n",
            "Soma de 10000 caixinhas =  1.0049627060117017\n",
            "compatibilidade: 0.005 < 1%\n",
            "largura: 0.00010049627060117017\n"
          ],
          "name": "stdout"
        }
      ]
    },
    {
      "cell_type": "markdown",
      "metadata": {
        "id": "n4Xup-dXgjKC"
      },
      "source": [
        "2. Faça a integração numérica pela esquerda da mesma função. Compare o resultado com a integração pela direita.\n"
      ]
    },
    {
      "cell_type": "code",
      "metadata": {
        "id": "nWnLqNmfgl74",
        "outputId": "6b74ad12-94e9-40d3-a81a-d0a6f054a6e8",
        "colab": {
          "base_uri": "https://localhost:8080/"
        }
      },
      "source": [
        "import math\n",
        "import numpy as np\n",
        "\n",
        "def Riemann(f, xi, xf , dx, method ='left' ):\n",
        "  if method == 'left':\n",
        "    x = np.arange( xi, xf, dx)\n",
        "    S = 0\n",
        "    for i in range(len(x)-1): #exclui o ultimo valor da lista\n",
        "      S = S + f(x[i]) * dx  \n",
        "    print('Somatório pela esquerda:',S)\n",
        "\n",
        "  elif method == 'right':\n",
        "    x = np.arange( xi, xf, dx)\n",
        "    S = 0\n",
        "    for i in range(1,len(x)): #exclui o primeiro valor da lista\n",
        "      S = S + f(x[i]) * dx\n",
        "    print('Somatório pela direita:',S)\n",
        "  \n",
        "  else:\n",
        "    raise ValueError(\"Method must be 'left' or 'right'.\")\n",
        "\n",
        "def f(x):\n",
        "  return math.exp(-x)\n",
        "\n",
        "x_i = 0 ; x_f = 10 ; dx = 0.001;\n",
        "Riemann(f,x_i,x_f,dx,'left')\n",
        "Riemann(f,x_i,x_f,dx,'right')\n"
      ],
      "execution_count": null,
      "outputs": [
        {
          "output_type": "stream",
          "text": [
            "Somatório pela esquerda: 1.00045461525447\n",
            "Somatório pela direita: 0.9994546606998185\n"
          ],
          "name": "stdout"
        }
      ]
    },
    {
      "cell_type": "markdown",
      "metadata": {
        "id": "EEdHbf3Lckbe"
      },
      "source": [
        "3. Faça a integração por trapézios. Lembre que a área de um trapézio é dada por: $A=\\frac{(a + b)h}{2}$"
      ]
    },
    {
      "cell_type": "code",
      "metadata": {
        "id": "dWErf1VdcmuH",
        "outputId": "12d16c26-afc8-470a-867e-b170597d9d6c",
        "colab": {
          "base_uri": "https://localhost:8080/"
        }
      },
      "source": [
        "import math\n",
        "import numpy as np\n",
        "\n",
        "def trapezoidal(f, xi, xf , dx):\n",
        "  x = np.arange( xi, xf, dx)\n",
        "  S = 0\n",
        "  for i in range(len(x)-1): #exclui o ultimo valor da lista\n",
        "    S = S + ( f(x[i]) + f(x[i+1]) ) * (dx / 2)  \n",
        "  print('Somatório pelo método trapezoidal:',S)\n",
        "\n",
        "def f(x):\n",
        "  return math.exp(-x)\n",
        "\n",
        "x_i = 0 ; x_f = 10 ; dx = 0.01;\n",
        "trapezoidal(f,x_i,x_f,dx)\n",
        "#ver método de simpson "
      ],
      "execution_count": null,
      "outputs": [
        {
          "output_type": "stream",
          "text": [
            "Somatório pelo método trapezoidal: 0.9999624767306672\n"
          ],
          "name": "stdout"
        }
      ]
    },
    {
      "cell_type": "markdown",
      "metadata": {
        "id": "Pt7-iGqigJC3"
      },
      "source": [
        "3. Faça a integração numérica das funções trigonométricas $\\sin(x)$ e $\\cos(x)$ num período $0 < x \\leq 2\\pi$"
      ]
    },
    {
      "cell_type": "code",
      "metadata": {
        "id": "7u6xllXSgJ6s",
        "outputId": "b600d906-d659-466f-a306-400b2bf9b65c",
        "colab": {
          "base_uri": "https://localhost:8080/"
        }
      },
      "source": [
        "import math\n",
        "import numpy as np\n",
        "\n",
        "def Riemann(f, xi, xf , dx, method ='left'):\n",
        "  if method == 'left':\n",
        "    x = np.arange( xi, xf, dx)\n",
        "    S = 0\n",
        "    for i in range(len(x)-1): #exclui o ultimo valor da lista\n",
        "      S = S + f(x[i]) * dx  \n",
        "    print('Somatório de Riemann pela esquerda:', round(S,4))\n",
        "  \n",
        "  elif method == 'right':\n",
        "    x = np.arange( xi, xf, dx)\n",
        "    S = 0\n",
        "    for i in range(1,len(x)): #exclui o primeiro valor da lista\n",
        "      S = S + f(x[i]) * dx\n",
        "    print('Somatório de Riemann pela direita:', round(S,4))\n",
        "\n",
        "  elif method == 'trapezoidal':\n",
        "    x = np.arange( xi, xf, dx)\n",
        "    S = 0\n",
        "    for i in range(len(x)-1): #exclui o ultimo valor da lista\n",
        "      S = S + ( f(x[i]) + f(x[i+1]) ) * (dx / 2)  \n",
        "    print('Somatório pelo método trapezoidal:', round(S,4) )\n",
        "  \n",
        "  else:\n",
        "    raise ValueError(\"Method must be 'left', 'right' or 'trapezoidal'.\")\n",
        "\n",
        "def f(x):\n",
        "  return math.sin(x) #sin or cos\n",
        "\n",
        "def analitico(xi,xf):\n",
        "  a = f(xf) - f(xi)\n",
        "  print('Resultado Analítico:', round(a,4) )\n",
        "\n",
        "x_i = 0 ; x_f = 2*math.pi ; dx = 0.01;\n",
        "analitico(x_i,x_f)\n",
        "Riemann(f,x_i,x_f,dx,'left')\n",
        "Riemann(f,x_i,x_f,dx,'right')\n",
        "Riemann(f,x_i,x_f,dx,'trapezoidal')\n"
      ],
      "execution_count": null,
      "outputs": [
        {
          "output_type": "stream",
          "text": [
            "Resultado Analítico: -0.0\n",
            "Somatório de Riemann pela esquerda: 0.0\n",
            "Somatório de Riemann pela direita: -0.0\n",
            "Somatório pelo método trapezoidal: 0.0\n"
          ],
          "name": "stdout"
        }
      ]
    },
    {
      "cell_type": "markdown",
      "metadata": {
        "id": "2bQJUx0TwSmd"
      },
      "source": [
        "Faça a integração das funções hiperbólicas  $\\sinh(x)$ e $\\cosh(x)$ no intervalo $0-10$."
      ]
    },
    {
      "cell_type": "code",
      "metadata": {
        "id": "8D9Hhm5xwUEn",
        "outputId": "24dea66a-9f68-4dad-ca15-09f404aba61e",
        "colab": {
          "base_uri": "https://localhost:8080/"
        }
      },
      "source": [
        "import math\n",
        "import numpy as np\n",
        "\n",
        "def Riemann(f, xi, xf , dx, method ='left'):\n",
        "  if method == 'left':\n",
        "    x = np.arange( xi, xf, dx)\n",
        "    S = 0\n",
        "    for i in range(len(x)-1): #exclui o ultimo valor da lista\n",
        "      S = S + f(x[i]) * dx  \n",
        "    print('Somatório de Riemann pela esquerda:', round(S,4))\n",
        "  \n",
        "  elif method == 'right':\n",
        "    x = np.arange( xi, xf, dx)\n",
        "    S = 0\n",
        "    for i in range(1,len(x)): #exclui o primeiro valor da lista\n",
        "      S = S + f(x[i]) * dx\n",
        "    print('Somatório de Riemann pela direita:', round(S,4))\n",
        "\n",
        "  elif method == 'trapezoidal':\n",
        "    x = np.arange( xi, xf, dx)\n",
        "    S = 0\n",
        "    for i in range(len(x)-1): #exclui o ultimo valor da lista\n",
        "      S = S + ( f(x[i]) + f(x[i+1]) ) * (dx / 2)  \n",
        "    print('Somatório pelo método trapezoidal:', round(S,4) )\n",
        "  \n",
        "  else:\n",
        "    raise ValueError(\"Method must be 'left', 'right' or 'trapezoidal'.\")\n",
        "\n",
        "def f(x):\n",
        "  return math.cosh(x) #sinh or cosh\n",
        "\n",
        "def analitico(xi,xf):\n",
        "  a = f(xf) - f(xi)\n",
        "  print('Resultado Analítico:', round(a,4) )\n",
        "\n",
        "x_i = 0 ; x_f = 10 ; dx = 0.01;\n",
        "analitico(x_i,x_f)\n",
        "Riemann(f,x_i,x_f,dx,'left')\n",
        "Riemann(f,x_i,x_f,dx,'right')\n",
        "Riemann(f,x_i,x_f,dx,'trapezoidal')"
      ],
      "execution_count": null,
      "outputs": [
        {
          "output_type": "stream",
          "text": [
            "Resultado Analítico: 11012.2329\n",
            "Somatório de Riemann pela esquerda: 10849.227\n",
            "Somatório de Riemann pela direita: 10958.2535\n",
            "Somatório pelo método trapezoidal: 10903.7402\n"
          ],
          "name": "stdout"
        }
      ]
    },
    {
      "cell_type": "markdown",
      "metadata": {
        "id": "F95dvfTsxJ_z"
      },
      "source": [
        "### Exercícios extras de resolução numérica de equações diferenciais\n",
        "\n",
        "1. Imagine que tem um/a maratonista treinando, que num trecho de $5 km$ tem velocidade quase constante de $12 km/h$. Produza uma lista distância percorrida em intervalos de 1 minuto.\n",
        "\n",
        "Consideremos a seguinte EDO com suas condições de contorno:\n",
        "\n",
        "$y'' = a = \\frac{d^2x}{dt^2}= 0 \\;\\;\\;\\;$ Aceleração constante\n",
        "\n",
        "$y(0) = 0 \\;\\;\\;\\;$ Consideramos que começa do ponto S = 0\n",
        "\n",
        "$y'(0) = 12 \\;\\;\\;\\;$ km/h\n",
        "\n",
        "$dt = 1 \\;\\;\\;\\;$ min\n"
      ]
    },
    {
      "cell_type": "code",
      "metadata": {
        "id": "Bmj6ydxjxKsg",
        "outputId": "5849ebf3-3117-43fd-89ec-29e7e472fb0f",
        "colab": {
          "base_uri": "https://localhost:8080/",
          "height": 418
        }
      },
      "source": [
        "import math\n",
        "import numpy as np\n",
        "import matplotlib.pyplot as plt\n",
        "\n",
        "def y2_prime(y2, y1, t):\n",
        "  return 0\n",
        "def y1_prime(y2):\n",
        "  return y2\n",
        "\n",
        "def Euler_2grau(range1, range2, dt, y1_0, y2_0):\n",
        "  t = np.arange(range1, range2, dt) # Região de estudo e largura dos blocos\n",
        "  y1=[]\n",
        "  y1.append(y1_0) # condição de contorno y = S\n",
        "  y2=[]\n",
        "  y2.append(y2_0) # condição de contorno para y' = v = dS/dt\n",
        " \n",
        "  for i in range(len(t)-1):  \n",
        "    y1i = y1[i] + y1_prime(y2[i])*dt\n",
        "    y2i = y2[i] + y2_prime(y2[i], y1[i], t[i])*dt \n",
        "    y1.append( round(y1i, 3) )  #truncar valor para até 3 casas decimais\n",
        "    y2.append( round(y2i, 3) )\n",
        "\n",
        "  print('Valores pelo métode Euler:')\n",
        "  print(y1)\n",
        "  print(t)\n",
        "  a = [y1,t]\n",
        "  return a\n",
        "\n",
        "# Solução analítica\n",
        "def distance_OneMin(S0,d,v,p):\n",
        "  t = 0;  S = 0\n",
        "  posicao = [] ; tempo = []\n",
        "  while S < d:\n",
        "    S = S0 + v*t ; \n",
        "    S = round(S, 3) #truncar valor para até 3 casas decimais\n",
        "    posicao.append(S) #adiciona item à lista\n",
        "    tempo.append(t)\n",
        "    t = t+p\n",
        "  print('Valores pela solução analítica:')\n",
        "  print(posicao)\n",
        "  print(tempo)\n",
        "  b = [posicao, tempo]\n",
        "  return b\n",
        "\n",
        "#A DUVIDA ESTA AQUI!!!!!!!!!!!! \n",
        "#Damos como entrada o range em t (e passo dt) para solução da eq. dif.,  \n",
        "#mas uma das condições de contorno é Sf = 5 km, como posso por esse limite?\n",
        "#Tentei usar um if ( e break) mas nãão obtive sucesso. Meu resultados sóó estão\n",
        "# bons pq eu sei até onde vai t, por isso botei t = 26 \n",
        "\n",
        "# Método de Euler\n",
        "a = Euler_2grau( 0, 26, 1, 0, 12/60 )\n",
        "# S0, Sf, velocidade, passo\n",
        "dt = 1\n",
        "b = distance_OneMin(0,5,12/60, dt)\n",
        "\n",
        "plt.plot(b[0], b[1], label='Solução Exata')\n",
        "plt.plot(a[0], a[1], label='Euler com dt=%s' % dt )\n",
        "plt.xlabel(\"distância km\")\n",
        "plt.ylabel(\"tempo min\")\n",
        "plt.legend()"
      ],
      "execution_count": 4,
      "outputs": [
        {
          "output_type": "stream",
          "text": [
            "Valores pelo métode Euler:\n",
            "[0, 0.2, 0.4, 0.6, 0.8, 1.0, 1.2, 1.4, 1.6, 1.8, 2.0, 2.2, 2.4, 2.6, 2.8, 3.0, 3.2, 3.4, 3.6, 3.8, 4.0, 4.2, 4.4, 4.6, 4.8, 5.0]\n",
            "[ 0  1  2  3  4  5  6  7  8  9 10 11 12 13 14 15 16 17 18 19 20 21 22 23\n",
            " 24 25]\n",
            "Valores pela solução analítica:\n",
            "[0.0, 0.2, 0.4, 0.6, 0.8, 1.0, 1.2, 1.4, 1.6, 1.8, 2.0, 2.2, 2.4, 2.6, 2.8, 3.0, 3.2, 3.4, 3.6, 3.8, 4.0, 4.2, 4.4, 4.6, 4.8, 5.0]\n",
            "[0, 1, 2, 3, 4, 5, 6, 7, 8, 9, 10, 11, 12, 13, 14, 15, 16, 17, 18, 19, 20, 21, 22, 23, 24, 25]\n"
          ],
          "name": "stdout"
        },
        {
          "output_type": "execute_result",
          "data": {
            "text/plain": [
              "<matplotlib.legend.Legend at 0x7f1457a73908>"
            ]
          },
          "metadata": {
            "tags": []
          },
          "execution_count": 4
        },
        {
          "output_type": "display_data",
          "data": {
            "image/png": "[encoded data removed]",
            "text/plain": [
              "<Figure size 432x288 with 1 Axes>"
            ]
          },
          "metadata": {
            "tags": [],
            "needs_background": "light"
          }
        }
      ]
    },
    {
      "cell_type": "markdown",
      "metadata": {
        "id": "dHkNHser1Ayq"
      },
      "source": [
        "O/A mesmo/a atleta no seguinte trecho acelera  por $200$ metros até chegar em $15 km/h$  por $2 km$. Queremos obter uma tabela ou gráfico da distância percorrida en função do tempo e o tempo total para chegar em $7 km$, faça isto utilizando listas. "
      ]
    },
    {
      "cell_type": "code",
      "metadata": {
        "id": "lDmSiih90_pz",
        "outputId": "2af734d5-2f1d-42e5-cb4d-74c287d449d4",
        "colab": {
          "base_uri": "https://localhost:8080/",
          "height": 422
        }
      },
      "source": [
        "import matplotlib.pyplot as plt\n",
        "\n",
        "#Soluçãão Analítica\n",
        "# Calcular as Raízes de uma Equação do 2º Grau\n",
        "def raizes(a, b, c):\n",
        "    D = (b**2 - 4*a*c)\n",
        "    x1 = (-b + D**(1/2)) / (2*a)\n",
        "    x2 = (-b - D**(1/2)) / (2*a)\n",
        "    print('\\nValor da raiz 1: {0}'.format(x1))\n",
        "    print('Valor da raiz 2: {0}'.format(x2))\n",
        "    return x1\n",
        "def distance_OneMin(S0,Sd,deltaS,d2,v0,vf,p):\n",
        "  t = 0;  S = 0\n",
        "  dis_per = []\n",
        "  tempo = []\n",
        "  while S < Sd:\n",
        "    S = S0 + v0*t\n",
        "    tempo.append(t) #adiciona item à lista\n",
        "    S = round(S,3) #truncar valor para até 3 casas decimais\n",
        "    dis_per.append(S) #adiciona item à lista\n",
        "    t = t+p #passo\n",
        "  t1 = (S-S0)/v0\n",
        "  a = ( (vf**2) -(v0**2))/(2*deltaS) #Equação de Torricelli   \n",
        "  S1 = S + v0*(t-t1) +(1/2)*(a)*((t-t1)**2)\n",
        "  while (S1-S) < deltaS:     \n",
        "    S1 = S + v0*(t-t1) +(1/2)*(a)*((t-t1)**2)\n",
        "    dis_per.append(round(S1,3))\n",
        "    tempo.append(t)\n",
        "    t = t+p\n",
        "  t2 = raizes( round(a/2,3), v0, -deltaS )\n",
        "  S2 = S+deltaS\n",
        "  while S2 < d2:\n",
        "    S2 = S+deltaS + vf*(t-t1+t2)\n",
        "    tempo.append(t)\n",
        "    dis_per.append(round(S2,3))\n",
        "    t = t+p\n",
        "  print('Solução Analíítica:')  \n",
        "  print(dis_per)\n",
        "  print(tempo)\n",
        "  lista = [dis_per, tempo]\n",
        "  return lista\n",
        "  \n",
        "####!!!!! Termos acima de 7 não deveriam aparecer\n",
        "a = distance_OneMin(0, 5, 0.2, 7, 12/60, 15/60, 1)\n",
        "\n",
        "plt.plot(a[0], a[1])\n",
        "plt.xlabel(\"distância [km]\")\n",
        "plt.ylabel(\"tempo [min] \")\n"
      ],
      "execution_count": 11,
      "outputs": [
        {
          "output_type": "stream",
          "text": [
            "\n",
            "Valor da raiz 1: 0.8892842845702846\n",
            "Valor da raiz 2: -8.032141427427428\n",
            "Solução Analíítica:\n",
            "[0.0, 0.2, 0.4, 0.6, 0.8, 1.0, 1.2, 1.4, 1.6, 1.8, 2.0, 2.2, 2.4, 2.6, 2.8, 3.0, 3.2, 3.4, 3.6, 3.8, 4.0, 4.2, 4.4, 4.6, 4.8, 5.0, 5.672, 5.922, 6.172, 6.422, 6.672, 6.922, 7.172]\n",
            "[0, 1, 2, 3, 4, 5, 6, 7, 8, 9, 10, 11, 12, 13, 14, 15, 16, 17, 18, 19, 20, 21, 22, 23, 24, 25, 26, 27, 28, 29, 30, 31, 32]\n"
          ],
          "name": "stdout"
        },
        {
          "output_type": "execute_result",
          "data": {
            "text/plain": [
              "Text(0, 0.5, 'tempo [min] ')"
            ]
          },
          "metadata": {
            "tags": []
          },
          "execution_count": 11
        },
        {
          "output_type": "display_data",
          "data": {
            "image/png": "[encoded data removed]",
            "text/plain": [
              "<Figure size 432x288 with 1 Axes>"
            ]
          },
          "metadata": {
            "tags": [],
            "needs_background": "light"
          }
        }
      ]
    },
    {
      "cell_type": "markdown",
      "metadata": {
        "id": "GzkNAd_g3IZk"
      },
      "source": [
        "3. Considere um péndulo simples num plano. O comprimento da linha é $1$ metro, a massa é $0,2 kg$ e a aceleração de gravidade $9,8 m/s^2$. Faça um gráfico ou crie uma tabela para a posição em coordenadas cartesianas em função do tempo, utilizando listas.\n",
        "\n",
        "Consideremos a seguinte EDO com suas condições de contorno:\n",
        "\n",
        "$  \\frac{d^2 \\theta}{dt^2} +  \\frac{g}{l} \\theta = 0 \\;\\;\\;\\;$ Equação do pêndulo.\n",
        "\n",
        "$y(0) = 0 \\;\\;\\;\\;$\n",
        "\n",
        "$y'(0) = 0 \\;\\;\\;\\;$ [rad/s]\n",
        "\n",
        "$dt = sua escolha \\;\\;\\;\\;$ [segundos]\n",
        "\n",
        "A solução analítica é:\n",
        "\n",
        "$ \\theta = A cos ( w_0 t + \\phi) \\;\\;\\;\\;$ Com $A$ sendo a amplitude."
      ]
    },
    {
      "cell_type": "code",
      "metadata": {
        "id": "GvNWiUuw3QiZ",
        "outputId": "e68a8a03-2d22-40d6-eeb2-e23547f012d6",
        "colab": {
          "base_uri": "https://localhost:8080/",
          "height": 296
        }
      },
      "source": [
        "import math\n",
        "import numpy as np\n",
        "import matplotlib.pyplot as plt\n",
        "\n",
        "def y2_prime(y2, y1, t):\n",
        "  g = 9.8 ; l = 1\n",
        "  return -g/l*y1\n",
        "def y1_prime(y2):\n",
        "  return y2\n",
        "\n",
        "def Euler_2grau(range1, range2, dt, y1_0, y2_0):\n",
        "  t = np.arange(range1, range2, dt) # Região de estudo e largura dos blocos\n",
        "  y1=[]\n",
        "  y1.append(y1_0) # condição de contorno y\n",
        "  y2=[]\n",
        "  y2.append(y2_0) # condição de contorno para y'\n",
        "  for i in range(len(t)-1):  \n",
        "    y1i = y1[i] + y1_prime(y2[i])*dt\n",
        "    y2i = y2[i] + y2_prime(y2[i], y1[i], t[i])*dt \n",
        "    y1.append( 1*math.sin(y1i) )  #truncar valor para até 3 casas decimais\n",
        "    y2.append( round(y2i, 3) ) \n",
        "  a = [y1,t]\n",
        "  return a\n",
        "\n",
        "# Solução Analíítica\n",
        "def pendulo_simples(L,g,tf,p):\n",
        "  t=0; i=0 ; theta = 0\n",
        "  coordx = [] ; coordy = [] ; tempo = []\n",
        "  while t < tf:\n",
        "    theta = math.cos( math.sqrt(g/L) * t )\n",
        "    x = L * math.sin( theta )\n",
        "    y = L * math.cos( theta )\n",
        "    coordx.append(x) ; coordy.append(y) ; tempo.append(t)\n",
        "    t = t + p\n",
        "  lista = [coordx,coordy, tempo ]\n",
        "  return lista\n",
        "\n",
        "dt = 0.01 ; l=1 ; x = l/2 ; \n",
        "# Método de Euler\n",
        "a = Euler_2grau( 0, 5, dt, math.asin(x/l), 0)\n",
        "# Analítica\n",
        "b = pendulo_simples(1, 9.8, 5, dt)\n",
        "\n",
        "# Gráficos\n",
        "plt.plot(a[1], a[0], label='Euler com dt=%s' % 0.1 )\n",
        "plt.plot(b[2], b[1], label='Solução Analítica' )\n",
        "plt.xlabel(\"x [m]\")\n",
        "plt.ylabel(\"tempo [s]\")\n",
        "plt.legend()\n",
        "\n",
        "#Não entendi a discrepância. Esperava que a sol. anali. tbm tivesse valores negativos para x"
      ],
      "execution_count": 52,
      "outputs": [
        {
          "output_type": "execute_result",
          "data": {
            "text/plain": [
              "<matplotlib.legend.Legend at 0x7f144ebf9c18>"
            ]
          },
          "metadata": {
            "tags": []
          },
          "execution_count": 52
        },
        {
          "output_type": "display_data",
          "data": {
            "image/png": "[encoded data removed]",
            "text/plain": [
              "<Figure size 432x288 with 1 Axes>"
            ]
          },
          "metadata": {
            "tags": [],
            "needs_background": "light"
          }
        }
      ]
    }
  ]
}