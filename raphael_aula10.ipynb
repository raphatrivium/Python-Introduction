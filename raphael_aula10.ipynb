{
  "nbformat": 4,
  "nbformat_minor": 0,
  "metadata": {
    "colab": {
      "name": "raphael_aula10.ipynb",
      "provenance": [],
      "collapsed_sections": [],
      "authorship_tag": "ABX9TyMMUQB1kWEx0cyWytrmTOqp",
      "include_colab_link": true
    },
    "kernelspec": {
      "name": "python3",
      "display_name": "Python 3"
    }
  },
  "cells": [
    {
      "cell_type": "markdown",
      "metadata": {
        "id": "view-in-github",
        "colab_type": "text"
      },
      "source": [
        "<a href=\"https://colab.research.google.com/github/raphatrivium/Python-Introduction/blob/main/raphael_aula10.ipynb\" target=\"_parent\"><img src=\"https://colab.research.google.com/assets/colab-badge.svg\" alt=\"Open In Colab\"/></a>"
      ]
    },
    {
      "cell_type": "markdown",
      "metadata": {
        "id": "OL8xw_oZSzUI"
      },
      "source": [
        "## Exercícios\n",
        "\n",
        "1. Quantos intervalos (ou qual largura de intervalo) é preciso implementar para ter uma precisão de 1% no resultado numérico na integração de $f(x)$ de 0 a 10? \n",
        "\n",
        "$\\dfrac{R_{num}-R_{an}}{R_{an}} \\leq 1\\% $\n",
        "\n",
        "$f(x) = \\mathrm{e}^{-x}  \\Rightarrow \\qquad \\int ^{10}_{0} f(x)dx = -1* \\left(\\mathrm{e}^{-10} - \\mathrm{e}^{0}\\right)  = 0.9999546000702375$"
      ]
    },
    {
      "cell_type": "code",
      "metadata": {
        "id": "OGWpq4tvS0ZW",
        "outputId": "e6c32c37-f550-4fd4-db16-5edc624a67f1",
        "colab": {
          "base_uri": "https://localhost:8080/"
        }
      },
      "source": [
        "import math\n",
        "import numpy as np\n",
        "\n",
        "def f(x):\n",
        "  return math.exp(-x)\n",
        "\n",
        "res_analit = 0.9999546000702375\n",
        "compatibilidade = 10000 \n",
        "x_i = 0 ; x_f = 10 ; dx = 1\n",
        "\n",
        "while compatibilidade > 1/100:  \n",
        "  if dx < 0:\n",
        "    break   \n",
        "  x = np.arange(x_i,x_f,dx)\n",
        "  S = 0\n",
        "  for i in x:\n",
        "      S += f(i)*dx  \n",
        "  compatibilidade = (S - res_analit)/res_analit\n",
        "  print(S , compatibilidade )\n",
        "  #dx = dx - 0.01 # passo\n",
        "  dx = dx/10 # passo\n",
        "\n",
        "print('Soma de', round((x_f-x_i)/dx) ,'caixinhas = ',S)\n",
        "print('compatibilidade:', round(compatibilidade,4),'< 1%')\n",
        "print('largura:',S/(abs(x_f-x_i)/dx))\n",
        "\n",
        "#import matplotlib.pyplot as plt\n",
        "#x = range(x_i,x_f)\n",
        "#y = [math.exp(-xi) for xi in x]  # isto se chama \"list comprehension\"\n",
        "#plt.bar(x,y,color=\"red\",align=\"edge\",width= 1 )\n",
        "#x1 = np.linspace(x_i, x_f, 1000) # intervalo de 0 a 10, com 1000 divisões\n",
        "#y1=[math.exp(-xi) for xi in x1]\n",
        "#plt.plot(x1,y1)\n",
        "#plt.show()"
      ],
      "execution_count": null,
      "outputs": [
        {
          "output_type": "stream",
          "text": [
            "1.5819048852379485 0.5819767068693262\n",
            "1.0507854867242843 0.050833194477505665\n",
            "1.0049627060117017 0.005008333319445099\n",
            "Soma de 10000 caixinhas =  1.0049627060117017\n",
            "compatibilidade: 0.005 < 1%\n",
            "largura: 0.00010049627060117017\n"
          ],
          "name": "stdout"
        }
      ]
    },
    {
      "cell_type": "markdown",
      "metadata": {
        "id": "n4Xup-dXgjKC"
      },
      "source": [
        "2. Faça a integração numérica pela esquerda da mesma função. Compare o resultado com a integração pela direita.\n"
      ]
    },
    {
      "cell_type": "code",
      "metadata": {
        "id": "nWnLqNmfgl74",
        "outputId": "6b74ad12-94e9-40d3-a81a-d0a6f054a6e8",
        "colab": {
          "base_uri": "https://localhost:8080/"
        }
      },
      "source": [
        "import math\n",
        "import numpy as np\n",
        "\n",
        "def Riemann(f, xi, xf , dx, method ='left' ):\n",
        "  if method == 'left':\n",
        "    x = np.arange( xi, xf, dx)\n",
        "    S = 0\n",
        "    for i in range(len(x)-1): #exclui o ultimo valor da lista\n",
        "      S = S + f(x[i]) * dx  \n",
        "    print('Somatório pela esquerda:',S)\n",
        "\n",
        "  elif method == 'right':\n",
        "    x = np.arange( xi, xf, dx)\n",
        "    S = 0\n",
        "    for i in range(1,len(x)): #exclui o primeiro valor da lista\n",
        "      S = S + f(x[i]) * dx\n",
        "    print('Somatório pela direita:',S)\n",
        "  \n",
        "  else:\n",
        "    raise ValueError(\"Method must be 'left' or 'right'.\")\n",
        "\n",
        "def f(x):\n",
        "  return math.exp(-x)\n",
        "\n",
        "x_i = 0 ; x_f = 10 ; dx = 0.001;\n",
        "Riemann(f,x_i,x_f,dx,'left')\n",
        "Riemann(f,x_i,x_f,dx,'right')\n"
      ],
      "execution_count": null,
      "outputs": [
        {
          "output_type": "stream",
          "text": [
            "Somatório pela esquerda: 1.00045461525447\n",
            "Somatório pela direita: 0.9994546606998185\n"
          ],
          "name": "stdout"
        }
      ]
    },
    {
      "cell_type": "markdown",
      "metadata": {
        "id": "EEdHbf3Lckbe"
      },
      "source": [
        "3. Faça a integração por trapézios. Lembre que a área de um trapézio é dada por: $A=\\frac{(a + b)h}{2}$"
      ]
    },
    {
      "cell_type": "code",
      "metadata": {
        "id": "dWErf1VdcmuH",
        "outputId": "12d16c26-afc8-470a-867e-b170597d9d6c",
        "colab": {
          "base_uri": "https://localhost:8080/"
        }
      },
      "source": [
        "import math\n",
        "import numpy as np\n",
        "\n",
        "def trapezoidal(f, xi, xf , dx):\n",
        "  x = np.arange( xi, xf, dx)\n",
        "  S = 0\n",
        "  for i in range(len(x)-1): #exclui o ultimo valor da lista\n",
        "    S = S + ( f(x[i]) + f(x[i+1]) ) * (dx / 2)  \n",
        "  print('Somatório pelo método trapezoidal:',S)\n",
        "\n",
        "def f(x):\n",
        "  return math.exp(-x)\n",
        "\n",
        "x_i = 0 ; x_f = 10 ; dx = 0.01;\n",
        "trapezoidal(f,x_i,x_f,dx)\n",
        "#ver método de simpson "
      ],
      "execution_count": null,
      "outputs": [
        {
          "output_type": "stream",
          "text": [
            "Somatório pelo método trapezoidal: 0.9999624767306672\n"
          ],
          "name": "stdout"
        }
      ]
    },
    {
      "cell_type": "markdown",
      "metadata": {
        "id": "Pt7-iGqigJC3"
      },
      "source": [
        "3. Faça a integração numérica das funções trigonométricas $\\sin(x)$ e $\\cos(x)$ num período $0 < x \\leq 2\\pi$"
      ]
    },
    {
      "cell_type": "code",
      "metadata": {
        "id": "7u6xllXSgJ6s",
        "outputId": "b600d906-d659-466f-a306-400b2bf9b65c",
        "colab": {
          "base_uri": "https://localhost:8080/"
        }
      },
      "source": [
        "import math\n",
        "import numpy as np\n",
        "\n",
        "def Riemann(f, xi, xf , dx, method ='left'):\n",
        "  if method == 'left':\n",
        "    x = np.arange( xi, xf, dx)\n",
        "    S = 0\n",
        "    for i in range(len(x)-1): #exclui o ultimo valor da lista\n",
        "      S = S + f(x[i]) * dx  \n",
        "    print('Somatório de Riemann pela esquerda:', round(S,4))\n",
        "  \n",
        "  elif method == 'right':\n",
        "    x = np.arange( xi, xf, dx)\n",
        "    S = 0\n",
        "    for i in range(1,len(x)): #exclui o primeiro valor da lista\n",
        "      S = S + f(x[i]) * dx\n",
        "    print('Somatório de Riemann pela direita:', round(S,4))\n",
        "\n",
        "  elif method == 'trapezoidal':\n",
        "    x = np.arange( xi, xf, dx)\n",
        "    S = 0\n",
        "    for i in range(len(x)-1): #exclui o ultimo valor da lista\n",
        "      S = S + ( f(x[i]) + f(x[i+1]) ) * (dx / 2)  \n",
        "    print('Somatório pelo método trapezoidal:', round(S,4) )\n",
        "  \n",
        "  else:\n",
        "    raise ValueError(\"Method must be 'left', 'right' or 'trapezoidal'.\")\n",
        "\n",
        "def f(x):\n",
        "  return math.sin(x) #sin or cos\n",
        "\n",
        "def analitico(xi,xf):\n",
        "  a = f(xf) - f(xi)\n",
        "  print('Resultado Analítico:', round(a,4) )\n",
        "\n",
        "x_i = 0 ; x_f = 2*math.pi ; dx = 0.01;\n",
        "analitico(x_i,x_f)\n",
        "Riemann(f,x_i,x_f,dx,'left')\n",
        "Riemann(f,x_i,x_f,dx,'right')\n",
        "Riemann(f,x_i,x_f,dx,'trapezoidal')\n"
      ],
      "execution_count": null,
      "outputs": [
        {
          "output_type": "stream",
          "text": [
            "Resultado Analítico: -0.0\n",
            "Somatório de Riemann pela esquerda: 0.0\n",
            "Somatório de Riemann pela direita: -0.0\n",
            "Somatório pelo método trapezoidal: 0.0\n"
          ],
          "name": "stdout"
        }
      ]
    },
    {
      "cell_type": "markdown",
      "metadata": {
        "id": "2bQJUx0TwSmd"
      },
      "source": [
        "Faça a integração das funções hiperbólicas  $\\sinh(x)$ e $\\cosh(x)$ no intervalo $0-10$."
      ]
    },
    {
      "cell_type": "code",
      "metadata": {
        "id": "8D9Hhm5xwUEn",
        "outputId": "24dea66a-9f68-4dad-ca15-09f404aba61e",
        "colab": {
          "base_uri": "https://localhost:8080/"
        }
      },
      "source": [
        "import math\n",
        "import numpy as np\n",
        "\n",
        "def Riemann(f, xi, xf , dx, method ='left'):\n",
        "  if method == 'left':\n",
        "    x = np.arange( xi, xf, dx)\n",
        "    S = 0\n",
        "    for i in range(len(x)-1): #exclui o ultimo valor da lista\n",
        "      S = S + f(x[i]) * dx  \n",
        "    print('Somatório de Riemann pela esquerda:', round(S,4))\n",
        "  \n",
        "  elif method == 'right':\n",
        "    x = np.arange( xi, xf, dx)\n",
        "    S = 0\n",
        "    for i in range(1,len(x)): #exclui o primeiro valor da lista\n",
        "      S = S + f(x[i]) * dx\n",
        "    print('Somatório de Riemann pela direita:', round(S,4))\n",
        "\n",
        "  elif method == 'trapezoidal':\n",
        "    x = np.arange( xi, xf, dx)\n",
        "    S = 0\n",
        "    for i in range(len(x)-1): #exclui o ultimo valor da lista\n",
        "      S = S + ( f(x[i]) + f(x[i+1]) ) * (dx / 2)  \n",
        "    print('Somatório pelo método trapezoidal:', round(S,4) )\n",
        "  \n",
        "  else:\n",
        "    raise ValueError(\"Method must be 'left', 'right' or 'trapezoidal'.\")\n",
        "\n",
        "def f(x):\n",
        "  return math.cosh(x) #sinh or cosh\n",
        "\n",
        "def analitico(xi,xf):\n",
        "  a = f(xf) - f(xi)\n",
        "  print('Resultado Analítico:', round(a,4) )\n",
        "\n",
        "x_i = 0 ; x_f = 10 ; dx = 0.01;\n",
        "analitico(x_i,x_f)\n",
        "Riemann(f,x_i,x_f,dx,'left')\n",
        "Riemann(f,x_i,x_f,dx,'right')\n",
        "Riemann(f,x_i,x_f,dx,'trapezoidal')"
      ],
      "execution_count": null,
      "outputs": [
        {
          "output_type": "stream",
          "text": [
            "Resultado Analítico: 11012.2329\n",
            "Somatório de Riemann pela esquerda: 10849.227\n",
            "Somatório de Riemann pela direita: 10958.2535\n",
            "Somatório pelo método trapezoidal: 10903.7402\n"
          ],
          "name": "stdout"
        }
      ]
    },
    {
      "cell_type": "markdown",
      "metadata": {
        "id": "F95dvfTsxJ_z"
      },
      "source": [
        "### Exercícios extras de resolução numérica de equações diferenciais\n",
        "\n",
        "1. Imagine que tem um/a maratonista treinando, que num trecho de $5 km$ tem velocidade quase constante de $12 km/h$. Produza uma lista distância percorrida em intervalos de 1 minuto."
      ]
    },
    {
      "cell_type": "code",
      "metadata": {
        "id": "Bmj6ydxjxKsg"
      },
      "source": [
        "def f(x):\n",
        "  return dv = at"
      ],
      "execution_count": null,
      "outputs": []
    }
  ]
}