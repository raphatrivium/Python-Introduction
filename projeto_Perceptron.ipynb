{
  "nbformat": 4,
  "nbformat_minor": 0,
  "metadata": {
    "colab": {
      "name": "projeto_Perceptron.ipynb",
      "provenance": [],
      "collapsed_sections": [],
      "authorship_tag": "ABX9TyPyEMJoqXlMEbX8W6nc+CfQ",
      "include_colab_link": true
    },
    "kernelspec": {
      "name": "python3",
      "display_name": "Python 3"
    }
  },
  "cells": [
    {
      "cell_type": "markdown",
      "metadata": {
        "id": "view-in-github",
        "colab_type": "text"
      },
      "source": [
        "<a href=\"https://colab.research.google.com/github/raphatrivium/Python-Introduction/blob/main/projeto_Perceptron.ipynb\" target=\"_parent\"><img src=\"https://colab.research.google.com/assets/colab-badge.svg\" alt=\"Open In Colab\"/></a>"
      ]
    },
    {
      "cell_type": "markdown",
      "metadata": {
        "id": "8BSiqU7kI-a1"
      },
      "source": [
        "# Projeto 2 - Perceptrons\n",
        "Grupo: Tais, Lenon, Raphael\n",
        "\n",
        "Nesse segundo projeto da disciplina de Introdução a Python, vamos construir uma classe de um modelo de Redes Neurais, que é a base das Redes Neurais clássicas e Redes Neurais Profundas (Deep Learning), chamado Peceptron.\n",
        "\n",
        "https://colab.research.google.com/github/malbouis/Python_intro/blob/master/projetos/projeto2_perceptrons.ipynb#scrollTo=-5vP_ogRktgm\n",
        "\n",
        "1. Criar uma `Classe` Perceptron em Python."
      ]
    },
    {
      "cell_type": "code",
      "metadata": {
        "id": "bva1BVxTJK8h"
      },
      "source": [
        "## ESQUELETO DE CLASSE PERCEPTRON\n",
        "import numpy as np\n",
        "class Perceptron():\n",
        "    def __init__(self, no_of_inputs, threshold=100, learning_rate=0.01):\n",
        "        '''\n",
        "        método de inicialização que tem os seguintes atributos:\n",
        "        no_of_inputs: número de features passadas como input ao perceptron\n",
        "        threshold: número de iterações de atualização do peso\n",
        "        learning_rate: taxa com a qual os pesos são atualizados a cada iteração\n",
        "        weights: inicialização dos pesos.\n",
        "        '''\n",
        "        self.threshold = threshold\n",
        "        self.learning_rate = learning_rate\n",
        "        # o vetor dos pesos terá no_of_inputs + 1 elementos por conta do bias que é o primeiro elemento\n",
        "        self.weights = np.zeros(no_of_inputs + 1) \n",
        "        \n",
        "    def predict(self, inputs):\n",
        "      ''' Método de implementação da função de ativação.\n",
        "      inputs: array com o conjunto de inputs (features).'''\n",
        "      # Não se esquecer que o produto da função de ativação é um produto escalar e pode ser calculado pelo método np.dot\n",
        "      S = np.dot( inputs, self.weights[1:] )  +  self.weights[0]       \n",
        "      if S > 0 :\n",
        "        return 1\n",
        "      else:\n",
        "        return 0\n",
        "\n",
        "    def train(self, training_inputs, labels):\n",
        "      ''' Atualizar tanto os pesos quanto o bias (lembre que o bias é o primeiro valor do vetor peso e tem input 1.)  \n",
        "      A atualização é feita iterativamente um número (threshold) de vezes.\n",
        "      '''\n",
        "      i = 0\n",
        "      #for _ in range(self.threshold):\n",
        "      while i < self.threshold :\n",
        "        for inputs, label in zip(training_inputs, labels):\n",
        "            prediction = self.predict(inputs)\n",
        "            #comparação entre o resultado da função de ativação (predição) e o resultado esperado (label).\n",
        "            e = label - prediction\n",
        "            self.weights[1:] += self.learning_rate * e * inputs\n",
        "            self.weights[0] += self.learning_rate * e\n",
        "        i = i+1  # passo    \n",
        "  "
      ],
      "execution_count": 5,
      "outputs": []
    },
    {
      "cell_type": "markdown",
      "metadata": {
        "id": "aO6gBiTYJSS2"
      },
      "source": [
        "2. Aplique essa classe nos dados das flores Iris para determinar se uma Iris com um certo comprimento e largura da **pétala** é uma Iris Setosa."
      ]
    },
    {
      "cell_type": "code",
      "metadata": {
        "colab": {
          "base_uri": "https://localhost:8080/"
        },
        "id": "8x97tMeRJj5C",
        "outputId": "a49e26aa-55b3-472c-f232-e3c12767ee44"
      },
      "source": [
        "# Importando os dados \n",
        "from sklearn.datasets import load_iris\n",
        "iris = load_iris() # returns a dictionary-like object\n",
        "# características (features) das flores Iris:\n",
        "print(iris.target_names)    # target = label\n",
        "print(iris.feature_names)\n",
        "# Pelo primeiro print acima, as caracteríísticas (features) são: \n",
        "#   0: sepal length, \n",
        "#   1: sepal width, \n",
        "#   2: petal length, \n",
        "#   3: petal width"
      ],
      "execution_count": 6,
      "outputs": [
        {
          "output_type": "stream",
          "text": [
            "['setosa' 'versicolor' 'virginica']\n",
            "['sepal length (cm)', 'sepal width (cm)', 'petal length (cm)', 'petal width (cm)']\n"
          ],
          "name": "stdout"
        }
      ]
    },
    {
      "cell_type": "code",
      "metadata": {
        "colab": {
          "base_uri": "https://localhost:8080/"
        },
        "id": "G_vT7JksH0K9",
        "outputId": "8db21399-e812-4fac-80fb-8690fdfd7c8a"
      },
      "source": [
        "perceptron = Perceptron(2)\n",
        "X = iris.data[:, (2,3)]  # selecionar somente as features \"petal length\" e \"petal width\"\n",
        "y = (iris.target == 0).astype(int)  # label = iris setosa. Retorna : 0-não ou 1-sim\n",
        "treino = perceptron.train(X,y)\n",
        "\n",
        "pred = perceptron.predict([1.4, 0.2]) #   4, 0.5  -   1.4, 0.2\n",
        "if pred == 1:\n",
        "  print('Os valores indicam que É uma Iris Setosa')\n",
        "else:\n",
        "  print('Os valores indicam que NÃO É uma Iris Setosa')"
      ],
      "execution_count": 7,
      "outputs": [
        {
          "output_type": "stream",
          "text": [
            "Os valores indicam que É uma Iris Setosa\n"
          ],
          "name": "stdout"
        }
      ]
    },
    {
      "cell_type": "markdown",
      "metadata": {
        "id": "XFxeECffJict"
      },
      "source": [
        "3. Compare o resultado da sua classe com a classe Peceptron do módulo do scikit-learn `linear_model`.\n"
      ]
    },
    {
      "cell_type": "code",
      "metadata": {
        "id": "GJ_C4NDQJken",
        "colab": {
          "base_uri": "https://localhost:8080/"
        },
        "outputId": "61214b93-448c-4edd-e048-dee3c225f1a2"
      },
      "source": [
        "from sklearn.linear_model import Perceptron\n",
        "X = iris.data[:, (2,3)] \n",
        "y = (iris.target == 0).astype(int)\n",
        "perceptron_clf = Perceptron()\n",
        "perceptron_clf.fit(X,y)      # Train\n",
        "y_pred = perceptron_clf.predict([[1.4, 0.2]])  # predict  4, 0.5  -   1.4, 0.2\n",
        "#print(y_pred)\n",
        "\n",
        "if y_pred == pred:\n",
        "  print('Os valores da classe Perceptron feito nesse projeto e do importado do sklearn são COMPATÍVEIS')\n",
        "else:\n",
        "  print('Os valores da classe Perceptron feito nesse projeto e do importado do sklearn são INCOMPATÍÍVEIS')"
      ],
      "execution_count": 8,
      "outputs": [
        {
          "output_type": "stream",
          "text": [
            "Os valores da classe Perceptron feito nesse projeto e do importado do sklearn são COMPATÍVEIS\n"
          ],
          "name": "stdout"
        }
      ]
    },
    {
      "cell_type": "markdown",
      "metadata": {
        "id": "ibhOoMx5JgVJ"
      },
      "source": [
        "4. Você pode pensar em algum outro exemplo em que possa aplica o modelo do Perceptron? Quando esse modelo falha?"
      ]
    },
    {
      "cell_type": "code",
      "metadata": {
        "id": "L1YaGcH0Jk71"
      },
      "source": [
        ""
      ],
      "execution_count": 8,
      "outputs": []
    }
  ]
}