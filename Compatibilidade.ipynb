{
  "nbformat": 4,
  "nbformat_minor": 0,
  "metadata": {
    "colab": {
      "name": "Compatibilidade.ipynb",
      "provenance": [],
      "collapsed_sections": [],
      "authorship_tag": "ABX9TyPBQSLIuiC+wpFuOMPkQHVh",
      "include_colab_link": true
    },
    "kernelspec": {
      "name": "python3",
      "display_name": "Python 3"
    }
  },
  "cells": [
    {
      "cell_type": "markdown",
      "metadata": {
        "id": "view-in-github",
        "colab_type": "text"
      },
      "source": [
        "<a href=\"https://colab.research.google.com/github/raphatrivium/Python-Introduction/blob/main/Compatibilidade.ipynb\" target=\"_parent\"><img src=\"https://colab.research.google.com/assets/colab-badge.svg\" alt=\"Open In Colab\"/></a>"
      ]
    },
    {
      "cell_type": "markdown",
      "metadata": {
        "id": "wTtM5sFUYcRQ"
      },
      "source": [
        "## Compatibilidade\n",
        "\n"
      ]
    },
    {
      "cell_type": "code",
      "metadata": {
        "id": "v1zrxGtxYl0k"
      },
      "source": [
        "import math\n",
        "\n",
        "def compatibilidade(valor1, sig1, valor2, sig2):\n",
        "  discrepancia = abs( valor1 - valor2 )\n",
        "  sigTotal = math.sqrt( sig1**2 + sig2**2 )\n",
        "\n",
        "  print('sigmas:', discrepancia/sigTotal)\n",
        "  if discrepancia > 3*sigTotal:\n",
        "    print('não é compatível')\n",
        "  elif discrepancia < 2*sigTotal:\n",
        "    print('compatível')\n",
        "  else:\n",
        "    print('inconclusivo')"
      ],
      "execution_count": 7,
      "outputs": []
    },
    {
      "cell_type": "markdown",
      "metadata": {
        "id": "xMs33OphdYJz"
      },
      "source": [
        "Dstar MC PDG"
      ]
    },
    {
      "cell_type": "code",
      "metadata": {
        "colab": {
          "base_uri": "https://localhost:8080/"
        },
        "id": "HHTWkCBkdcIc",
        "outputId": "658a02e0-d2fa-4853-e3ac-3240d770538d"
      },
      "source": [
        "Dstar_PDG = 2.01026 ; SigDstar_PDG = 0.00005\n",
        "D0_PDG = 1.86483 ; SigD0_PDG = 0.00005\n",
        "DeltaM_PDG = (Dstar_PDG - D0_PDG) ; SigDeltaM_PDG = math.sqrt( SigDstar_PDG**2 + SigD0_PDG**2 )\n",
        "DeltaM = 0.1454981  ; SigDeltaM = 0.0000058\n",
        "compatibilidade(DeltaM_PDG, SigDeltaM_PDG, DeltaM, SigDeltaM)"
      ],
      "execution_count": 9,
      "outputs": [
        {
          "output_type": "stream",
          "text": [
            "sigmas: 0.9598558936562153\n",
            "compatível\n"
          ],
          "name": "stdout"
        }
      ]
    },
    {
      "cell_type": "markdown",
      "metadata": {
        "id": "q7lNwr_Jd8qo"
      },
      "source": [
        "Dstar Dado PDG"
      ]
    },
    {
      "cell_type": "code",
      "metadata": {
        "colab": {
          "base_uri": "https://localhost:8080/"
        },
        "id": "3rXAGJcNeVoa",
        "outputId": "b484ac26-3884-4940-f737-45f91021cca5"
      },
      "source": [
        "DeltaM = 0.145477  ; SigDeltaM = 0.000016\n",
        "compatibilidade(DeltaM_PDG, SigDeltaM_PDG, DeltaM, SigDeltaM)"
      ],
      "execution_count": 10,
      "outputs": [
        {
          "output_type": "stream",
          "text": [
            "sigmas: 0.6482912794027738\n",
            "compatível\n"
          ],
          "name": "stdout"
        }
      ]
    },
    {
      "cell_type": "markdown",
      "metadata": {
        "id": "8AtEqwIxedGF"
      },
      "source": [
        "Dstar Dado MC"
      ]
    },
    {
      "cell_type": "code",
      "metadata": {
        "colab": {
          "base_uri": "https://localhost:8080/"
        },
        "id": "Kdg_HiWveg6h",
        "outputId": "6269b5f0-99a7-40d4-870d-b5991e228c90"
      },
      "source": [
        "DeltaM_MC = 0.1454981  ; SigDeltaM_MC = 0.0000058\n",
        "DeltaM = 0.145477  ; SigDeltaM = 0.000016\n",
        "compatibilidade(DeltaM_MC, SigDeltaM_MC, DeltaM, SigDeltaM)"
      ],
      "execution_count": 11,
      "outputs": [
        {
          "output_type": "stream",
          "text": [
            "sigmas: 1.2398044359327964\n",
            "compatível\n"
          ],
          "name": "stdout"
        }
      ]
    },
    {
      "cell_type": "markdown",
      "metadata": {
        "id": "h-uHrxY6exvY"
      },
      "source": [
        "D0 MC PDG"
      ]
    },
    {
      "cell_type": "code",
      "metadata": {
        "colab": {
          "base_uri": "https://localhost:8080/"
        },
        "id": "UzHlnjzfeyhS",
        "outputId": "5f3d28bc-936c-4a6b-89e5-31301b3bcd14"
      },
      "source": [
        "D0_PDG = 1.86483; SigD0_PDG = 0.00005\n",
        "D0 = 1.86654 ; SigD0 = 0.000014\n",
        "compatibilidade(D0_PDG, SigD0_PDG, D0, SigD0)"
      ],
      "execution_count": 12,
      "outputs": [
        {
          "output_type": "stream",
          "text": [
            "sigmas: 32.93336947422695\n",
            "não é compatível\n"
          ],
          "name": "stdout"
        }
      ]
    },
    {
      "cell_type": "markdown",
      "metadata": {
        "id": "okANIYSqaL7i"
      },
      "source": [
        "D0 Dado PDG"
      ]
    },
    {
      "cell_type": "code",
      "metadata": {
        "colab": {
          "base_uri": "https://localhost:8080/"
        },
        "id": "MbnSLmG_Zi2Q",
        "outputId": "a3beb440-1037-40f8-8d67-ca307ee60c53"
      },
      "source": [
        "D0_PDG = 1.86483; SigD0_PDG = 0.00005\n",
        "D0 = 1.86654 ; SigD0 = 0.000014\n",
        "compatibilidade(D0_PDG, SigD0_PDG, D0, SigD0)"
      ],
      "execution_count": 8,
      "outputs": [
        {
          "output_type": "stream",
          "text": [
            "sigmas: 32.93336947422695\n",
            "não é compatível\n"
          ],
          "name": "stdout"
        }
      ]
    },
    {
      "cell_type": "markdown",
      "metadata": {
        "id": "oAejBXmee_nI"
      },
      "source": [
        "D0 MC Dado "
      ]
    },
    {
      "cell_type": "code",
      "metadata": {
        "colab": {
          "base_uri": "https://localhost:8080/"
        },
        "id": "H7LCnpuNfAXd",
        "outputId": "583c1ec1-ee90-422a-af9c-0e1d1bd46646"
      },
      "source": [
        "D0_MC = 1.86654; SigD0_MC = 0.000014\n",
        "D0 = 1.864129 ; SigD0 = 0.000034\n",
        "compatibilidade(D0_MC, SigD0_MC, D0, SigD0)"
      ],
      "execution_count": 13,
      "outputs": [
        {
          "output_type": "stream",
          "text": [
            "sigmas: 65.57055574772622\n",
            "não é compatível\n"
          ],
          "name": "stdout"
        }
      ]
    },
    {
      "cell_type": "markdown",
      "metadata": {
        "id": "xcK-XyA6fK5O"
      },
      "source": [
        "Compatibilidade da Lagura Dado e MC para D*"
      ]
    },
    {
      "cell_type": "code",
      "metadata": {
        "colab": {
          "base_uri": "https://localhost:8080/"
        },
        "id": "yGX938q4fLiu",
        "outputId": "7c372c44-723c-41d9-8d55-019fe68a1172"
      },
      "source": [
        "Lagura_MC = 0.001200 ; Sig_MC = 0.000011\n",
        "Lagura = 0.00169 ; Sig = 0.00011\n",
        "compatibilidade(Lagura_MC, Sig_MC, Lagura, Sig)"
      ],
      "execution_count": 16,
      "outputs": [
        {
          "output_type": "stream",
          "text": [
            "sigmas: 4.43243839275359\n",
            "não é compatível\n"
          ],
          "name": "stdout"
        }
      ]
    },
    {
      "cell_type": "code",
      "metadata": {
        "colab": {
          "base_uri": "https://localhost:8080/"
        },
        "id": "Y07hXw3NjnHG",
        "outputId": "9468fbad-376d-47a6-9bdb-5b9985f38741"
      },
      "source": [
        "Lagura_MC = 0.0004771 ; Sig_MC = 0.0000050\n",
        "Lagura = 0.000536 ; Sig = 0.000014\n",
        "compatibilidade(Lagura_MC, Sig_MC, Lagura, Sig)"
      ],
      "execution_count": 17,
      "outputs": [
        {
          "output_type": "stream",
          "text": [
            "sigmas: 3.9620427566382816\n",
            "não é compatível\n"
          ],
          "name": "stdout"
        }
      ]
    },
    {
      "cell_type": "markdown",
      "metadata": {
        "id": "YJCaq2-nlCPF"
      },
      "source": [
        "Compatibilidade da Lagura Dado e MC para D0"
      ]
    },
    {
      "cell_type": "code",
      "metadata": {
        "colab": {
          "base_uri": "https://localhost:8080/"
        },
        "id": "Ptd_AAwslFmF",
        "outputId": "290d72fe-0bbe-4edd-c4f4-765e1e440039"
      },
      "source": [
        "Lagura_MC = 0.02832 ; Sig_MC = 0.00019\n",
        "Lagura = 0.02101 ; Sig = 0.00040\n",
        "compatibilidade(Lagura_MC, Sig_MC, Lagura, Sig)"
      ],
      "execution_count": 18,
      "outputs": [
        {
          "output_type": "stream",
          "text": [
            "sigmas: 16.507396392074646\n",
            "não é compatível\n"
          ],
          "name": "stdout"
        }
      ]
    },
    {
      "cell_type": "code",
      "metadata": {
        "colab": {
          "base_uri": "https://localhost:8080/"
        },
        "id": "tDBmneUClGMA",
        "outputId": "fbd35923-293d-4eaa-868c-2dc1f476c6b3"
      },
      "source": [
        "Lagura_MC = 0.010927 ; Sig_MC = 0.000034\n",
        "Lagura = 0.01003 ; Sig = 0.00013\n",
        "compatibilidade(Lagura_MC, Sig_MC, Lagura, Sig)"
      ],
      "execution_count": 19,
      "outputs": [
        {
          "output_type": "stream",
          "text": [
            "sigmas: 6.675467256499777\n",
            "não é compatível\n"
          ],
          "name": "stdout"
        }
      ]
    }
  ]
}