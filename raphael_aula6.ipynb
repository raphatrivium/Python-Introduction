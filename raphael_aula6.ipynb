{
  "nbformat": 4,
  "nbformat_minor": 0,
  "metadata": {
    "kernelspec": {
      "display_name": "Python 3",
      "language": "python",
      "name": "python3"
    },
    "language_info": {
      "codemirror_mode": {
        "name": "ipython",
        "version": 3
      },
      "file_extension": ".py",
      "mimetype": "text/x-python",
      "name": "python",
      "nbconvert_exporter": "python",
      "pygments_lexer": "ipython3",
      "version": "3.6.4"
    },
    "colab": {
      "name": "AllanJales_aula6_exercícios.ipynb",
      "provenance": [],
      "collapsed_sections": [],
      "include_colab_link": true
    }
  },
  "cells": [
    {
      "cell_type": "markdown",
      "metadata": {
        "id": "view-in-github",
        "colab_type": "text"
      },
      "source": [
        "<a href=\"https://colab.research.google.com/github/raphatrivium/Python-Introduction/blob/main/raphael_aula6.ipynb\" target=\"_parent\"><img src=\"https://colab.research.google.com/assets/colab-badge.svg\" alt=\"Open In Colab\"/></a>"
      ]
    },
    {
      "cell_type": "markdown",
      "metadata": {
        "id": "7xJo458eRIz_"
      },
      "source": [
        "### Exercícios\n",
        "\n",
        "1. Considere o seguinte script:"
      ]
    },
    {
      "cell_type": "code",
      "metadata": {
        "id": "NajHrqwGdYXZ",
        "outputId": "132d75c8-7562-44cd-9bb8-53f109b92870",
        "colab": {
          "base_uri": "https://localhost:8080/",
          "height": 34
        }
      },
      "source": [
        "!pip3 install ColabTurtle"
      ],
      "execution_count": null,
      "outputs": [
        {
          "output_type": "stream",
          "text": [
            "Requirement already satisfied: ColabTurtle in /usr/local/lib/python3.6/dist-packages (2.0.0)\n"
          ],
          "name": "stdout"
        }
      ]
    },
    {
      "cell_type": "code",
      "metadata": {
        "id": "vB4IycDrhrGa",
        "outputId": "f7303298-792e-4a28-f329-7925857dca7c",
        "colab": {
          "base_uri": "https://localhost:8080/",
          "height": 521
        }
      },
      "source": [
        "import ColabTurtle.Turtle as tess\n",
        "\n",
        "def draw_bar(t, height):\n",
        "    \"\"\" Get turtle t to draw one bar, of height. \"\"\"\n",
        "    t.forward(height)\n",
        "    t.right(90)\n",
        "    t.forward(40)\n",
        "    t.right(90)\n",
        "    t.forward(height)\n",
        "    t.left(90)\n",
        "    t.forward(10)\n",
        "    t.left(90)\n",
        "\n",
        "tess.initializeTurtle()   # inicialização\n",
        "\n",
        "tess.color(\"blue\")\n",
        "tess.bgcolor(\"white\")\n",
        "tess.penup() #levantar a caneta\n",
        "tess.goto(10,450) #mudar posicao de inicio \n",
        "tess.pendown() #abaixar a caneta\n",
        "\n",
        "xs = [48,117,200,240,160,260,220]\n",
        "\n",
        "for a in xs:\n",
        "    draw_bar(tess, a)"
      ],
      "execution_count": null,
      "outputs": [
        {
          "output_type": "display_data",
          "data": {
            "text/html": [
              "\n",
              "      <svg width=\"800\" height=\"500\">\n",
              "        <rect width=\"100%\" height=\"100%\" fill=\"white\"/>\n",
              "        <line x1=\"10\" y1=\"450\" x2=\"9.999999999999991\" y2=\"402.0\" stroke-linecap=\"round\" style=\"stroke:blue;stroke-width:4\"/><line x1=\"9.999999999999991\" y1=\"402.0\" x2=\"49.99999999999999\" y2=\"402.0\" stroke-linecap=\"round\" style=\"stroke:blue;stroke-width:4\"/><line x1=\"49.99999999999999\" y1=\"402.0\" x2=\"49.99999999999999\" y2=\"450.0\" stroke-linecap=\"round\" style=\"stroke:blue;stroke-width:4\"/><line x1=\"49.99999999999999\" y1=\"450.0\" x2=\"59.99999999999999\" y2=\"450.0\" stroke-linecap=\"round\" style=\"stroke:blue;stroke-width:4\"/><line x1=\"59.99999999999999\" y1=\"450.0\" x2=\"59.99999999999997\" y2=\"333.0\" stroke-linecap=\"round\" style=\"stroke:blue;stroke-width:4\"/><line x1=\"59.99999999999997\" y1=\"333.0\" x2=\"99.99999999999997\" y2=\"333.0\" stroke-linecap=\"round\" style=\"stroke:blue;stroke-width:4\"/><line x1=\"99.99999999999997\" y1=\"333.0\" x2=\"99.99999999999999\" y2=\"450.0\" stroke-linecap=\"round\" style=\"stroke:blue;stroke-width:4\"/><line x1=\"99.99999999999999\" y1=\"450.0\" x2=\"109.99999999999999\" y2=\"450.0\" stroke-linecap=\"round\" style=\"stroke:blue;stroke-width:4\"/><line x1=\"109.99999999999999\" y1=\"450.0\" x2=\"109.99999999999994\" y2=\"250.0\" stroke-linecap=\"round\" style=\"stroke:blue;stroke-width:4\"/><line x1=\"109.99999999999994\" y1=\"250.0\" x2=\"149.99999999999994\" y2=\"250.0\" stroke-linecap=\"round\" style=\"stroke:blue;stroke-width:4\"/><line x1=\"149.99999999999994\" y1=\"250.0\" x2=\"149.99999999999994\" y2=\"450.0\" stroke-linecap=\"round\" style=\"stroke:blue;stroke-width:4\"/><line x1=\"149.99999999999994\" y1=\"450.0\" x2=\"159.99999999999994\" y2=\"450.0\" stroke-linecap=\"round\" style=\"stroke:blue;stroke-width:4\"/><line x1=\"159.99999999999994\" y1=\"450.0\" x2=\"159.9999999999999\" y2=\"210.0\" stroke-linecap=\"round\" style=\"stroke:blue;stroke-width:4\"/><line x1=\"159.9999999999999\" y1=\"210.0\" x2=\"199.9999999999999\" y2=\"210.0\" stroke-linecap=\"round\" style=\"stroke:blue;stroke-width:4\"/><line x1=\"199.9999999999999\" y1=\"210.0\" x2=\"199.99999999999991\" y2=\"450.0\" stroke-linecap=\"round\" style=\"stroke:blue;stroke-width:4\"/><line x1=\"199.99999999999991\" y1=\"450.0\" x2=\"209.99999999999991\" y2=\"450.0\" stroke-linecap=\"round\" style=\"stroke:blue;stroke-width:4\"/><line x1=\"209.99999999999991\" y1=\"450.0\" x2=\"209.9999999999999\" y2=\"290.0\" stroke-linecap=\"round\" style=\"stroke:blue;stroke-width:4\"/><line x1=\"209.9999999999999\" y1=\"290.0\" x2=\"249.9999999999999\" y2=\"290.0\" stroke-linecap=\"round\" style=\"stroke:blue;stroke-width:4\"/><line x1=\"249.9999999999999\" y1=\"290.0\" x2=\"249.9999999999999\" y2=\"450.0\" stroke-linecap=\"round\" style=\"stroke:blue;stroke-width:4\"/><line x1=\"249.9999999999999\" y1=\"450.0\" x2=\"259.9999999999999\" y2=\"450.0\" stroke-linecap=\"round\" style=\"stroke:blue;stroke-width:4\"/><line x1=\"259.9999999999999\" y1=\"450.0\" x2=\"259.99999999999983\" y2=\"190.0\" stroke-linecap=\"round\" style=\"stroke:blue;stroke-width:4\"/><line x1=\"259.99999999999983\" y1=\"190.0\" x2=\"299.99999999999983\" y2=\"190.0\" stroke-linecap=\"round\" style=\"stroke:blue;stroke-width:4\"/><line x1=\"299.99999999999983\" y1=\"190.0\" x2=\"299.99999999999983\" y2=\"450.0\" stroke-linecap=\"round\" style=\"stroke:blue;stroke-width:4\"/><line x1=\"299.99999999999983\" y1=\"450.0\" x2=\"309.99999999999983\" y2=\"450.0\" stroke-linecap=\"round\" style=\"stroke:blue;stroke-width:4\"/><line x1=\"309.99999999999983\" y1=\"450.0\" x2=\"309.9999999999998\" y2=\"230.0\" stroke-linecap=\"round\" style=\"stroke:blue;stroke-width:4\"/><line x1=\"309.9999999999998\" y1=\"230.0\" x2=\"349.9999999999998\" y2=\"230.0\" stroke-linecap=\"round\" style=\"stroke:blue;stroke-width:4\"/><line x1=\"349.9999999999998\" y1=\"230.0\" x2=\"349.9999999999998\" y2=\"450.0\" stroke-linecap=\"round\" style=\"stroke:blue;stroke-width:4\"/><line x1=\"349.9999999999998\" y1=\"450.0\" x2=\"359.9999999999998\" y2=\"450.0\" stroke-linecap=\"round\" style=\"stroke:blue;stroke-width:4\"/>\n",
              "        \n",
              "      <g visibility=visible transform=\"rotate(180,359.9999999999998,450.0) translate(359.9999999999998, 450.0)\">\n",
              "        <circle stroke=\"blue\" stroke-width=\"3\" fill=\"transparent\" r=\"12\" cx=\"0\" cy=\"0\"/>\n",
              "        <polygon points=\"0,19 3,16 -3,16\" style=\"fill:blue;stroke:blue;stroke-width:2\"/>\n",
              "      </g>\n",
              "    \n",
              "      </svg>\n",
              "    "
            ],
            "text/plain": [
              "<IPython.core.display.HTML object>"
            ]
          },
          "metadata": {
            "tags": []
          }
        }
      ]
    },
    {
      "cell_type": "markdown",
      "metadata": {
        "id": "7UXSE3AaRI0H"
      },
      "source": [
        "1) Modifique-o para que o resultado seja um **histograma**, como o mostrado na figura abaixo.\n",
        "Amplie seu script para que seja possível passar ao programa dados (frequência), com o valor do bin (classe de frequência) e cores determinados pelo usuário.\n",
        "\n",
        "\n",
        "Adicione declarações condicionais à função para casos passíveis de gerar erros, como por exemplo, se alguma variável do argumento da \n",
        "função não for definida.\n",
        "\n",
        "***Exemplo***: amplie sua função para tomar como argumento uma lista que contenha as frequências do histograma e verifique que o argumento realmente é uma lista. Caso não seja, imprima uma mensagem de erro.\n",
        "\n",
        "![](https://github.com/malbouis/Python_intro/blob/master/aulas_2019/pics/histo.png)\n",
        "\n"
      ]
    },
    {
      "cell_type": "code",
      "metadata": {
        "id": "QF4rQJpgMLNo",
        "outputId": "fd925527-be63-4e1a-c9b3-4a6748fb26f9",
        "colab": {
          "base_uri": "https://localhost:8080/",
          "height": 521
        }
      },
      "source": [
        "import ColabTurtle.Turtle as tess\n",
        "#--------------------------------------------\n",
        "def draw_bar(t, height, width, color):\n",
        "    t.color(color)\n",
        "    t.forward(height)\n",
        "    t.right(90) #vira 90º à direita\n",
        "    t.forward(width)\n",
        "    t.right(90)\n",
        "    t.forward(height)\n",
        "    #t.left(90)\n",
        "    #t.forward(10)\n",
        "    #t.left(90)\n",
        "    t.left(180)\n",
        "#--------------------------------------------\n",
        "def create_hist(turtle, xcont, xbins, color = \"blue\"):\n",
        "    tess.penup()\n",
        "    tess.goto(1,450)\n",
        "    tess.pendown()\n",
        "    if (len(xcont) != len(xbins)-1):\n",
        "        print(\"ERROR: number of bins and bins contents does not match.\")\n",
        "        return\n",
        "    for i in range(1, len(xbins)):\n",
        "        if (xbins[i] < xbins[i-1]):\n",
        "            print(\"ERROR: bins must be in order.\")\n",
        "            return\n",
        "        if (xbins[i] == xbins[i-1]):\n",
        "            print(\"ERROR: bins should not have 0 size.\")\n",
        "            return\n",
        "    for i in range(len(xcont)):\n",
        "        draw_bar(turtle, xcont[i], xbins[i+1] - xbins[i], color)\n",
        "#--------------------------------------------\n",
        "tess.initializeTurtle()   # inicialização\n",
        "tess.speed(10)\n",
        "tess.color(\"blue\")\n",
        "tess.bgcolor(\"orange\")\n",
        "xcont = [48,117,200,240,160,260,220]\n",
        "xbins = [0,50,100,150,200,300,400,600]\n",
        "create_hist(tess, xcont, xbins, \"red\")"
      ],
      "execution_count": null,
      "outputs": [
        {
          "output_type": "display_data",
          "data": {
            "text/html": [
              "\n",
              "      <svg width=\"800\" height=\"500\">\n",
              "        <rect width=\"100%\" height=\"100%\" fill=\"orange\"/>\n",
              "        <line x1=\"1\" y1=\"450\" x2=\"0.9999999999999912\" y2=\"402.0\" stroke-linecap=\"round\" style=\"stroke:red;stroke-width:4\"/><line x1=\"0.9999999999999912\" y1=\"402.0\" x2=\"50.99999999999999\" y2=\"402.0\" stroke-linecap=\"round\" style=\"stroke:red;stroke-width:4\"/><line x1=\"50.99999999999999\" y1=\"402.0\" x2=\"50.99999999999999\" y2=\"450.0\" stroke-linecap=\"round\" style=\"stroke:red;stroke-width:4\"/><line x1=\"50.99999999999999\" y1=\"450.0\" x2=\"50.99999999999997\" y2=\"333.0\" stroke-linecap=\"round\" style=\"stroke:red;stroke-width:4\"/><line x1=\"50.99999999999997\" y1=\"333.0\" x2=\"100.99999999999997\" y2=\"333.0\" stroke-linecap=\"round\" style=\"stroke:red;stroke-width:4\"/><line x1=\"100.99999999999997\" y1=\"333.0\" x2=\"100.99999999999999\" y2=\"450.0\" stroke-linecap=\"round\" style=\"stroke:red;stroke-width:4\"/><line x1=\"100.99999999999999\" y1=\"450.0\" x2=\"100.99999999999994\" y2=\"250.0\" stroke-linecap=\"round\" style=\"stroke:red;stroke-width:4\"/><line x1=\"100.99999999999994\" y1=\"250.0\" x2=\"150.99999999999994\" y2=\"250.0\" stroke-linecap=\"round\" style=\"stroke:red;stroke-width:4\"/><line x1=\"150.99999999999994\" y1=\"250.0\" x2=\"150.99999999999994\" y2=\"450.0\" stroke-linecap=\"round\" style=\"stroke:red;stroke-width:4\"/><line x1=\"150.99999999999994\" y1=\"450.0\" x2=\"150.9999999999999\" y2=\"210.0\" stroke-linecap=\"round\" style=\"stroke:red;stroke-width:4\"/><line x1=\"150.9999999999999\" y1=\"210.0\" x2=\"200.9999999999999\" y2=\"210.0\" stroke-linecap=\"round\" style=\"stroke:red;stroke-width:4\"/><line x1=\"200.9999999999999\" y1=\"210.0\" x2=\"200.99999999999991\" y2=\"450.0\" stroke-linecap=\"round\" style=\"stroke:red;stroke-width:4\"/><line x1=\"200.99999999999991\" y1=\"450.0\" x2=\"200.9999999999999\" y2=\"290.0\" stroke-linecap=\"round\" style=\"stroke:red;stroke-width:4\"/><line x1=\"200.9999999999999\" y1=\"290.0\" x2=\"300.9999999999999\" y2=\"290.0\" stroke-linecap=\"round\" style=\"stroke:red;stroke-width:4\"/><line x1=\"300.9999999999999\" y1=\"290.0\" x2=\"300.9999999999999\" y2=\"450.0\" stroke-linecap=\"round\" style=\"stroke:red;stroke-width:4\"/><line x1=\"300.9999999999999\" y1=\"450.0\" x2=\"300.99999999999983\" y2=\"190.0\" stroke-linecap=\"round\" style=\"stroke:red;stroke-width:4\"/><line x1=\"300.99999999999983\" y1=\"190.0\" x2=\"400.99999999999983\" y2=\"190.0\" stroke-linecap=\"round\" style=\"stroke:red;stroke-width:4\"/><line x1=\"400.99999999999983\" y1=\"190.0\" x2=\"400.99999999999983\" y2=\"450.0\" stroke-linecap=\"round\" style=\"stroke:red;stroke-width:4\"/><line x1=\"400.99999999999983\" y1=\"450.0\" x2=\"400.9999999999998\" y2=\"230.0\" stroke-linecap=\"round\" style=\"stroke:red;stroke-width:4\"/><line x1=\"400.9999999999998\" y1=\"230.0\" x2=\"600.9999999999998\" y2=\"230.0\" stroke-linecap=\"round\" style=\"stroke:red;stroke-width:4\"/><line x1=\"600.9999999999998\" y1=\"230.0\" x2=\"600.9999999999998\" y2=\"450.0\" stroke-linecap=\"round\" style=\"stroke:red;stroke-width:4\"/>\n",
              "        \n",
              "      <g visibility=visible transform=\"rotate(180,600.9999999999998,450.0) translate(600.9999999999998, 450.0)\">\n",
              "        <circle stroke=\"red\" stroke-width=\"3\" fill=\"transparent\" r=\"12\" cx=\"0\" cy=\"0\"/>\n",
              "        <polygon points=\"0,19 3,16 -3,16\" style=\"fill:red;stroke:red;stroke-width:2\"/>\n",
              "      </g>\n",
              "    \n",
              "      </svg>\n",
              "    "
            ],
            "text/plain": [
              "<IPython.core.display.HTML object>"
            ]
          },
          "metadata": {
            "tags": []
          }
        }
      ]
    },
    {
      "cell_type": "markdown",
      "metadata": {
        "id": "ByYaIPbqLso9"
      },
      "source": [
        "2) Repita o exercício 1) usando **Manipulação de exceção em Python** (pesquisem!!!!), com as cláusulas ```try``` e ```except```.  <=== **A ser apresentado em sala de aula**.\n",
        "\n"
      ]
    },
    {
      "cell_type": "code",
      "metadata": {
        "id": "d2v1hNmPQANN",
        "outputId": "f7a484c4-72da-435f-ca71-877e7784aabc",
        "colab": {
          "base_uri": "https://localhost:8080/",
          "height": 538
        }
      },
      "source": [
        "import ColabTurtle.Turtle as tess\n",
        "#--------------------------------------------\n",
        "def draw_bar(t, height, width, color):\n",
        "    t.color(color)\n",
        "    t.forward(height)\n",
        "    t.right(90) #vira 90º à direita\n",
        "    t.forward(width)\n",
        "    t.right(90)\n",
        "    t.forward(height)\n",
        "    t.left(180)\n",
        "#--------------------------------------------\n",
        "def create_hist(turtle, xcont, xbins, color = \"blue\"):\n",
        "    tess.penup()\n",
        "    tess.goto(10,450)\n",
        "    tess.pendown()\n",
        "    for i in range(1, len(xbins)):\n",
        "        if (xbins[i] < xbins[i-1]):\n",
        "            print(\"ERROR: bins must be in order.\")\n",
        "            return\n",
        "        if (xbins[i] == xbins[i-1]):\n",
        "            print(\"ERROR: bins should not have 0 size.\")\n",
        "            return\n",
        "    for i in range(len(xcont)):\n",
        "        draw_bar(turtle, xcont[i], xbins[i+1] - xbins[i], color)\n",
        "#--------------------------------------------\n",
        "tess.initializeTurtle()   # inicialização\n",
        "tess.speed(10)\n",
        "tess.color(\"blue\")\n",
        "tess.bgcolor(\"white\")\n",
        "xcont = [48,117,200,240,160,260,220]\n",
        "xbins = [0,50,100,150,200,300,400]\n",
        "\n",
        "try:\n",
        "    create_hist(tess, xcont, xbins, \"blue\")\n",
        "except:\n",
        "    print(\"ERROR: something went wrong.\")"
      ],
      "execution_count": null,
      "outputs": [
        {
          "output_type": "display_data",
          "data": {
            "text/html": [
              "\n",
              "      <svg width=\"800\" height=\"500\">\n",
              "        <rect width=\"100%\" height=\"100%\" fill=\"white\"/>\n",
              "        <line x1=\"10\" y1=\"450\" x2=\"9.999999999999991\" y2=\"402.0\" stroke-linecap=\"round\" style=\"stroke:blue;stroke-width:4\"/><line x1=\"9.999999999999991\" y1=\"402.0\" x2=\"59.99999999999999\" y2=\"402.0\" stroke-linecap=\"round\" style=\"stroke:blue;stroke-width:4\"/><line x1=\"59.99999999999999\" y1=\"402.0\" x2=\"59.99999999999999\" y2=\"450.0\" stroke-linecap=\"round\" style=\"stroke:blue;stroke-width:4\"/><line x1=\"59.99999999999999\" y1=\"450.0\" x2=\"59.99999999999997\" y2=\"333.0\" stroke-linecap=\"round\" style=\"stroke:blue;stroke-width:4\"/><line x1=\"59.99999999999997\" y1=\"333.0\" x2=\"109.99999999999997\" y2=\"333.0\" stroke-linecap=\"round\" style=\"stroke:blue;stroke-width:4\"/><line x1=\"109.99999999999997\" y1=\"333.0\" x2=\"109.99999999999999\" y2=\"450.0\" stroke-linecap=\"round\" style=\"stroke:blue;stroke-width:4\"/><line x1=\"109.99999999999999\" y1=\"450.0\" x2=\"109.99999999999994\" y2=\"250.0\" stroke-linecap=\"round\" style=\"stroke:blue;stroke-width:4\"/><line x1=\"109.99999999999994\" y1=\"250.0\" x2=\"159.99999999999994\" y2=\"250.0\" stroke-linecap=\"round\" style=\"stroke:blue;stroke-width:4\"/><line x1=\"159.99999999999994\" y1=\"250.0\" x2=\"159.99999999999994\" y2=\"450.0\" stroke-linecap=\"round\" style=\"stroke:blue;stroke-width:4\"/><line x1=\"159.99999999999994\" y1=\"450.0\" x2=\"159.9999999999999\" y2=\"210.0\" stroke-linecap=\"round\" style=\"stroke:blue;stroke-width:4\"/><line x1=\"159.9999999999999\" y1=\"210.0\" x2=\"209.9999999999999\" y2=\"210.0\" stroke-linecap=\"round\" style=\"stroke:blue;stroke-width:4\"/><line x1=\"209.9999999999999\" y1=\"210.0\" x2=\"209.99999999999991\" y2=\"450.0\" stroke-linecap=\"round\" style=\"stroke:blue;stroke-width:4\"/><line x1=\"209.99999999999991\" y1=\"450.0\" x2=\"209.9999999999999\" y2=\"290.0\" stroke-linecap=\"round\" style=\"stroke:blue;stroke-width:4\"/><line x1=\"209.9999999999999\" y1=\"290.0\" x2=\"309.9999999999999\" y2=\"290.0\" stroke-linecap=\"round\" style=\"stroke:blue;stroke-width:4\"/><line x1=\"309.9999999999999\" y1=\"290.0\" x2=\"309.9999999999999\" y2=\"450.0\" stroke-linecap=\"round\" style=\"stroke:blue;stroke-width:4\"/><line x1=\"309.9999999999999\" y1=\"450.0\" x2=\"309.99999999999983\" y2=\"190.0\" stroke-linecap=\"round\" style=\"stroke:blue;stroke-width:4\"/><line x1=\"309.99999999999983\" y1=\"190.0\" x2=\"409.99999999999983\" y2=\"190.0\" stroke-linecap=\"round\" style=\"stroke:blue;stroke-width:4\"/><line x1=\"409.99999999999983\" y1=\"190.0\" x2=\"409.99999999999983\" y2=\"450.0\" stroke-linecap=\"round\" style=\"stroke:blue;stroke-width:4\"/>\n",
              "        \n",
              "      <g visibility=visible transform=\"rotate(180,409.99999999999983,450.0) translate(409.99999999999983, 450.0)\">\n",
              "        <circle stroke=\"blue\" stroke-width=\"3\" fill=\"transparent\" r=\"12\" cx=\"0\" cy=\"0\"/>\n",
              "        <polygon points=\"0,19 3,16 -3,16\" style=\"fill:blue;stroke:blue;stroke-width:2\"/>\n",
              "      </g>\n",
              "    \n",
              "      </svg>\n",
              "    "
            ],
            "text/plain": [
              "<IPython.core.display.HTML object>"
            ]
          },
          "metadata": {
            "tags": []
          }
        },
        {
          "output_type": "stream",
          "text": [
            "ERROR: something went wrong.\n"
          ],
          "name": "stdout"
        }
      ]
    },
    {
      "cell_type": "markdown",
      "metadata": {
        "id": "1tZTQnMMLuNu"
      },
      "source": [
        "2) **Desafio**: Faça um programa equivalente ao do item 1., utilizando ***matplotlib*** e ***numpy*** ao invés de ***turtle***"
      ]
    },
    {
      "cell_type": "code",
      "metadata": {
        "id": "ev_MfIKjZMHi",
        "outputId": "cbe9ab37-9904-4339-a9ca-9b26a2a38a70",
        "colab": {
          "base_uri": "https://localhost:8080/",
          "height": 265
        }
      },
      "source": [
        "import matplotlib.pyplot as plt\n",
        "content = [5,3,4,5,3,2,1,2,3]\n",
        "bins = [1,2,3,5,6,7,8,9,10]\n",
        "plt.hist(bins, bins, weights=content)\n",
        "plt.show()"
      ],
      "execution_count": null,
      "outputs": [
        {
          "output_type": "display_data",
          "data": {
            "image/png": "[encoded data removed]",
            "text/plain": [
              "<Figure size 432x288 with 1 Axes>"
            ]
          },
          "metadata": {
            "tags": [],
            "needs_background": "light"
          }
        }
      ]
    }
  ]
}