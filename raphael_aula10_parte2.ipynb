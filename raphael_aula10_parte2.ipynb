{
  "nbformat": 4,
  "nbformat_minor": 0,
  "metadata": {
    "colab": {
      "name": "raphael_aula10_parte2.ipynb",
      "provenance": [],
      "collapsed_sections": [],
      "authorship_tag": "ABX9TyNFk4uWZkQGWHcpnwGxJHI4",
      "include_colab_link": true
    },
    "kernelspec": {
      "name": "python3",
      "display_name": "Python 3"
    }
  },
  "cells": [
    {
      "cell_type": "markdown",
      "metadata": {
        "id": "view-in-github",
        "colab_type": "text"
      },
      "source": [
        "<a href=\"https://colab.research.google.com/github/raphatrivium/Python-Introduction/blob/main/raphael_aula10_parte2.ipynb\" target=\"_parent\"><img src=\"https://colab.research.google.com/assets/colab-badge.svg\" alt=\"Open In Colab\"/></a>"
      ]
    },
    {
      "cell_type": "markdown",
      "metadata": {
        "id": "7vsW9CHcxVty"
      },
      "source": [
        "### Exercícios extras de resolução numérica de equações  diferenciais (da aula passada)\n",
        "\n",
        "1. Imagine que tem um/a maratonista treinando, que num trecho de $5 km$ tem velocidade quase constante de $12 km/h$. Produza uma lista distância percorrida em intervalos de 1 minuto.\n",
        "\n",
        "Consideremos a seguinte EDO com suas condições de contorno:\n",
        "\n",
        "$y'' = a = 0 \\;\\;\\;\\;$ Aceleração constante\n",
        "\n",
        "$y(0) = 0 \\;\\;\\;\\;$ Consideramos que começa do ponto S = 0\n",
        "\n",
        "$y'(0) = 12 \\;\\;\\;\\;$ km/h"
      ]
    },
    {
      "cell_type": "code",
      "metadata": {
        "id": "uY4JcHbKxWcr",
        "outputId": "abee1a08-9217-4cae-d728-97d3693d4c92",
        "colab": {
          "base_uri": "https://localhost:8080/",
          "height": 404
        }
      },
      "source": [
        "import math\n",
        "import numpy as np\n",
        "import matplotlib.pyplot as plt\n",
        "\n",
        "def y2_prime(y2, y1, t):\n",
        "  return 0\n",
        "def y1_prime(y2):\n",
        "  return y2\n",
        "\n",
        "def Euler_2grau(range1, range2, dt, y1_0, y2_0):\n",
        "  t = np.arange(range1, range2, dt) # Região de estudo e largura dos blocos\n",
        "  y1=[]\n",
        "  y1.append(y1_0) # condição de contorno y = S\n",
        "  y2=[]\n",
        "  y2.append(y2_0) # condição de contorno para y' = v = dS/dt\n",
        " \n",
        "  for i in range(len(t)-1):  \n",
        "    y1i = y1[i] + y1_prime(y2[i])*dt\n",
        "    y2i = y2[i] + y2_prime(y2[i], y1[i], t[i])*dt \n",
        "    y1.append( round(y1i, 3) )  #truncar valor para até 3 casas decimais\n",
        "    y2.append( round(y2i, 3) )\n",
        "\n",
        "  print(y1)\n",
        "  print(t)\n",
        "  a = [y1,t]\n",
        "  return a\n",
        "\n",
        "# Solução analítica\n",
        "def distance_OneMin(S0,d,v,p):\n",
        "  t = 0;  S = 0\n",
        "  posicao = [] ; tempo = []\n",
        "  while S < d:\n",
        "    S = S0 + v*t ; \n",
        "    S = round(S, 3) #truncar valor para até 3 casas decimais\n",
        "    posicao.append(S) #adiciona item à lista\n",
        "    tempo.append(t)\n",
        "    t = t+p\n",
        "  print(posicao)\n",
        "  print(tempo)\n",
        "  b = [posicao, tempo]\n",
        "  return b\n",
        "\n",
        "# Método de Euler\n",
        "a = Euler_2grau( 0, 30, 1, 0, 12/60 )\n",
        "\n",
        "# S0, Sf, velocidade, passo\n",
        "dt = 1\n",
        "b = distance_OneMin(0,5,12/60, dt)\n",
        "\n",
        "plt.plot(b[0], b[1], label='Solução Exata')\n",
        "plt.plot(a[0], a[1], label='Euler com dt=%s' % dt )\n",
        "plt.xlabel(\"distância km\")\n",
        "plt.ylabel(\"tempo min\")\n",
        "plt.legend()"
      ],
      "execution_count": 78,
      "outputs": [
        {
          "output_type": "stream",
          "text": [
            "[0, 0.2, 0.4, 0.6, 0.8, 1.0, 1.2, 1.4, 1.6, 1.8, 2.0, 2.2, 2.4, 2.6, 2.8, 3.0, 3.2, 3.4, 3.6, 3.8, 4.0, 4.2, 4.4, 4.6, 4.8, 5.0, 5.2, 5.4, 5.6, 5.8]\n",
            "[ 0  1  2  3  4  5  6  7  8  9 10 11 12 13 14 15 16 17 18 19 20 21 22 23\n",
            " 24 25 26 27 28 29]\n",
            "[0.0, 0.2, 0.4, 0.6, 0.8, 1.0, 1.2, 1.4, 1.6, 1.8, 2.0, 2.2, 2.4, 2.6, 2.8, 3.0, 3.2, 3.4, 3.6, 3.8, 4.0, 4.2, 4.4, 4.6, 4.8, 5.0]\n",
            "[0, 1, 2, 3, 4, 5, 6, 7, 8, 9, 10, 11, 12, 13, 14, 15, 16, 17, 18, 19, 20, 21, 22, 23, 24, 25]\n"
          ],
          "name": "stdout"
        },
        {
          "output_type": "execute_result",
          "data": {
            "text/plain": [
              "<matplotlib.legend.Legend at 0x7f1b5c9c9978>"
            ]
          },
          "metadata": {
            "tags": []
          },
          "execution_count": 78
        },
        {
          "output_type": "display_data",
          "data": {
            "image/png": "[encoded data removed]",
            "text/plain": [
              "<Figure size 432x288 with 1 Axes>"
            ]
          },
          "metadata": {
            "tags": [],
            "needs_background": "light"
          }
        }
      ]
    },
    {
      "cell_type": "markdown",
      "metadata": {
        "id": "Iy4trwX6Y6P3"
      },
      "source": [
        "1. O/A mesmo/a atleta no seguinte trecho acelera por $200$ metros até chegar em $15 km/h$ por $2 km$. Queremos obter uma tabela ou gráfico da distância percorrida en função do tempo e o tempo total para chegar em $7 km$, faça isto utilizando listas."
      ]
    },
    {
      "cell_type": "code",
      "metadata": {
        "id": "1L37jpvFZEfJ"
      },
      "source": [
        ""
      ],
      "execution_count": null,
      "outputs": []
    }
  ]
}