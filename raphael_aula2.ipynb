{
  "nbformat": 4,
  "nbformat_minor": 0,
  "metadata": {
    "kernelspec": {
      "display_name": "Python 3",
      "language": "python",
      "name": "python3"
    },
    "language_info": {
      "codemirror_mode": {
        "name": "ipython",
        "version": 3
      },
      "file_extension": ".py",
      "mimetype": "text/x-python",
      "name": "python",
      "nbconvert_exporter": "python",
      "pygments_lexer": "ipython3",
      "version": "3.7.0"
    },
    "colab": {
      "name": "raphael_aula2.ipynb",
      "provenance": [],
      "collapsed_sections": [
        "ovDMJX2TyAlZ",
        "VKVkWHALyAli",
        "fhVLq2sGyAll",
        "1D7bGyTuyAlr",
        "xLQU58LJyAl8",
        "9K0YVGLjyAmA",
        "LDYykqsryAmT",
        "5w0g3eItyAmZ",
        "t9JkW-fLyAmc",
        "LIEmLrEiyAmg",
        "Pg2nZDTayAmq",
        "ApWStk60yAm4",
        "Vz8GxGVqyAm5",
        "yvM-GLIOyAm6",
        "4S5d3rEkyAm9",
        "CmmYIGI7yAnP",
        "lY0k8SHNyAni"
      ],
      "include_colab_link": true
    }
  },
  "cells": [
    {
      "cell_type": "markdown",
      "metadata": {
        "id": "view-in-github",
        "colab_type": "text"
      },
      "source": [
        "<a href=\"https://colab.research.google.com/github/raphatrivium/Python-Introduction/blob/main/raphael_aula2.ipynb\" target=\"_parent\"><img src=\"https://colab.research.google.com/assets/colab-badge.svg\" alt=\"Open In Colab\"/></a>"
      ]
    },
    {
      "cell_type": "markdown",
      "metadata": {
        "id": "Vz8GxGVqyAm5"
      },
      "source": [
        "## Exercícios\n",
        "\n",
        "### Exercício 1:\n",
        "Considere as seguintes declarações de atribuições:\n",
        "   * largura = 17 \n",
        "   * altura = 12.0\n",
        "   * delimitador = \".\"\n",
        "   \n",
        "Para cada uma das expressões a seguir, escreva o valor das expressões e o tipo (do valor da expressão):\n",
        "1. largura/2\n",
        "1. largura/2.0\n",
        "1. altura/3\n",
        "1. 1 + 2 * 5\n",
        "1. delimitador*5\n",
        "\n",
        "Use o interpretador de python para verificar suas respostas.\n",
        "\n"
      ]
    },
    {
      "cell_type": "code",
      "metadata": {
        "id": "wHthjVIFXisA",
        "outputId": "5373a868-07ed-4ede-89bf-7137d964da98",
        "colab": {
          "base_uri": "https://localhost:8080/",
          "height": 104
        }
      },
      "source": [
        "largura = 17\n",
        "altura = 12.0\n",
        "delimitador = \".\"\n",
        "a = largura/2\n",
        "print('largura/2 = ', a, ' # type: ', type(a))\n",
        "b = largura/2.0\n",
        "print('largura/2.0 = ', b, ' # type: ', type(b))\n",
        "c = altura/3\n",
        "print('altura/3 = ', c, ' # type: ', type(c))\n",
        "d = 1 + 2 * 5\n",
        "print('1 + 2 * 5 = ', d, ' # type: ', type(d))\n",
        "e = delimitador*5\n",
        "print('delimitador*5 = ', e, ' # type: ', type(e))"
      ],
      "execution_count": null,
      "outputs": [
        {
          "output_type": "stream",
          "text": [
            "largura/2 =  8.5  # type:  <class 'float'>\n",
            "largura/2.0 =  8.5  # type:  <class 'float'>\n",
            "altura/3 =  4.0  # type:  <class 'float'>\n",
            "1 + 2 * 5 =  11  # type:  <class 'int'>\n",
            "delimitador*5 =  .....  # type:  <class 'str'>\n"
          ],
          "name": "stdout"
        }
      ]
    },
    {
      "cell_type": "markdown",
      "metadata": {
        "id": "jPQB6OhhXd_g"
      },
      "source": [
        "### Exercício 2:\n",
        "O volume de uma esfera de raio *r* é $\\frac{4}{3} \\pi r^{3}$ \n",
        "\n",
        "Qual é o volume de uma esfera de raio 5?\n",
        "\n"
      ]
    },
    {
      "cell_type": "code",
      "metadata": {
        "id": "B-aYT-2CX9Dc",
        "outputId": "a601abde-61bf-4929-d8d7-0f20c49c5a03",
        "colab": {
          "base_uri": "https://localhost:8080/",
          "height": 34
        }
      },
      "source": [
        "pi = 3.1415926535897932\n",
        "r = 5 \n",
        "V = (4/3)*pi*(r**3)\n",
        "print('Volume = ', V)"
      ],
      "execution_count": null,
      "outputs": [
        {
          "output_type": "stream",
          "text": [
            "Volume =  523.5987755982989\n"
          ],
          "name": "stdout"
        }
      ]
    },
    {
      "cell_type": "markdown",
      "metadata": {
        "id": "MHu21tWQX6Ic"
      },
      "source": [
        "### Exercício 3:\n",
        "Suponha que o preço de um livro seja 24.95 reais, porém as livrarias têm desconto de 40%. Os custos de envio são de 3.00 reais para o primeiro livro e 0.75 reais para os livros adicionais. Qual é o custo total da compra de 60 livros?  \n",
        "\n"
      ]
    },
    {
      "cell_type": "code",
      "metadata": {
        "id": "GZ3VyxYnYAc9",
        "outputId": "2bb8dba8-1e76-432e-acd2-e6b90dcbb2d4",
        "colab": {
          "base_uri": "https://localhost:8080/",
          "height": 34
        }
      },
      "source": [
        "book_price = 24.95\n",
        "descount = 60/100\n",
        "mail1 = 3.00\n",
        "mail = 0.75\n",
        "n_books = 60\n",
        "\n",
        "Total_Price = book_price*descount + mail1+((n_books-1)*book_price)*(descount + mail)\n",
        "print('Preço de', n_books,'livros:', Total_Price, 'Reais (R$)')"
      ],
      "execution_count": null,
      "outputs": [
        {
          "output_type": "stream",
          "text": [
            "Preço de 60 livros: 2005.2375000000002 Reais (R$)\n"
          ],
          "name": "stdout"
        }
      ]
    },
    {
      "cell_type": "markdown",
      "metadata": {
        "id": "Ch2-Ki5IX7QN"
      },
      "source": [
        "### Exercício 4:\n",
        "Um laser vermelho (com comprimento de onda $\\lambda = 632.8$ nm) incide em uma fenda dupla produzindo um padrão de interferência com franjas claras e escuras, em um anteparo situado a uma distância D = 1.98 m da fenda. Calcule a distância $\\Delta y$ entre dois máximos consecutivos de interferência. Considere o espaçamento entre as fendas, $d$, como sendo igual a 0.250 mm.\n",
        "*Dica: a distância entre dois máximos de interferência consecutivos pode ser aproximada por $\\Delta y = \\frac{\\lambda D}{d}$.*"
      ]
    },
    {
      "cell_type": "code",
      "metadata": {
        "id": "rX80jwqdYGJh",
        "outputId": "5944b9d7-5a68-4e74-f88c-8a6862373a2f",
        "colab": {
          "base_uri": "https://localhost:8080/",
          "height": 34
        }
      },
      "source": [
        "value_lambda = 632.8*10e-9 #m\n",
        "D = 1.98 #m\n",
        "d = 0.25*10e-3  #m\n",
        "\n",
        "Delta_y = (value_lambda * D) / d\n",
        "print('Delta_y =', Delta_y,'m ou',Delta_y*1000,'mm')"
      ],
      "execution_count": null,
      "outputs": [
        {
          "output_type": "stream",
          "text": [
            "Delta_y = 0.005011775999999999 m ou 5.011775999999999 mm\n"
          ],
          "name": "stdout"
        }
      ]
    }
  ]
}