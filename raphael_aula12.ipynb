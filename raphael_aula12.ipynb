{
  "nbformat": 4,
  "nbformat_minor": 0,
  "metadata": {
    "colab": {
      "name": "raphael_aula12.ipynb",
      "provenance": [],
      "collapsed_sections": [],
      "authorship_tag": "ABX9TyMS9wMSrm1lQpWih3GgshHW",
      "include_colab_link": true
    },
    "kernelspec": {
      "name": "python3",
      "display_name": "Python 3"
    }
  },
  "cells": [
    {
      "cell_type": "markdown",
      "metadata": {
        "id": "view-in-github",
        "colab_type": "text"
      },
      "source": [
        "<a href=\"https://colab.research.google.com/github/raphatrivium/Python-Introduction/blob/main/raphael_aula12.ipynb\" target=\"_parent\"><img src=\"https://colab.research.google.com/assets/colab-badge.svg\" alt=\"Open In Colab\"/></a>"
      ]
    },
    {
      "cell_type": "markdown",
      "metadata": {
        "id": "AtZ0ANJ1wS5Q"
      },
      "source": [
        "## Exercícios:\n",
        "\n",
        "1) Escreva uma função que calcula a distância entre dois pontos, usando a classe Ponto que fizemos nessa aula."
      ]
    },
    {
      "cell_type": "code",
      "metadata": {
        "colab": {
          "base_uri": "https://localhost:8080/"
        },
        "id": "obc31xDuwTgp",
        "outputId": "78f05219-bd3a-4401-f998-672c11821760"
      },
      "source": [
        "class Ponto:\n",
        "    \"\"\" Cria um novo Ponto, com coordenadas x, y \"\"\"\n",
        "    def __init__(self, x=0, y=0):\n",
        "        \"\"\" Inicializa em x, y o novo ponto criado pela classe \"\"\"\n",
        "        self.x = x\n",
        "        self.y = y      \n",
        "    def distancia(self, alvo):\n",
        "        \"\"\" Retorna a distancia entre esse ponto e o alvo \"\"\"\n",
        "        mx = abs(self.x - alvo.x)\n",
        "        my = abs(self.y - alvo.y)\n",
        "        return Ponto(mx, my)    \n",
        "    def __str__(self):\n",
        "        return \"({0}, {1})\".format(self.x, self.y)\n",
        "\n",
        "p1 = Ponto(0,0)  ;  p2 = Ponto(2,0)\n",
        "print( p1.distancia(p2) )      "
      ],
      "execution_count": 20,
      "outputs": [
        {
          "output_type": "stream",
          "text": [
            "(2, 0)\n"
          ],
          "name": "stdout"
        }
      ]
    },
    {
      "cell_type": "markdown",
      "metadata": {
        "id": "C1XW8B8g44Nr"
      },
      "source": [
        "2) Adicione um método reflexao_x à classe Ponto que retorna uma instância de Ponto, que é o reflexo do Ponto sobre o eixo x. Por exemplo, Point (3, 5) .reflexao_x () é (3, -5)"
      ]
    },
    {
      "cell_type": "code",
      "metadata": {
        "colab": {
          "base_uri": "https://localhost:8080/"
        },
        "id": "yv7sGdv34_VH",
        "outputId": "de61a652-d776-4ffd-8866-6bf51cc29690"
      },
      "source": [
        "class Ponto:\n",
        "    \"\"\" Cria um novo Ponto, com coordenadas x, y \"\"\"\n",
        "    def __init__(self, x=0, y=0):\n",
        "        \"\"\" Inicializa em x, y o novo ponto criado pela classe \"\"\"\n",
        "        self.x = x\n",
        "        self.y = y      \n",
        "    def reflexao_x(self):\n",
        "        \"\"\" Retorna a reflexao em relacao ao eixo-x entre esse ponto e o alvo \"\"\"\n",
        "        mx = -self.x\n",
        "        my = self.y\n",
        "        return Ponto(mx, my)    \n",
        "    def __str__(self):\n",
        "        return \"({0}, {1})\".format(self.x, self.y)\n",
        "\n",
        "p1 = Ponto(2,0)\n",
        "print( p1.reflexao_x() )"
      ],
      "execution_count": 21,
      "outputs": [
        {
          "output_type": "stream",
          "text": [
            "(-2, 0)\n"
          ],
          "name": "stdout"
        }
      ]
    },
    {
      "cell_type": "markdown",
      "metadata": {
        "id": "jHg1VccJ7Ime"
      },
      "source": [
        "3) Adicione um método ***inclinacao_da_origem*** à classe Ponto, que retorne a inclinação da linha que une a origem ao Ponto. Por exemplo,"
      ]
    },
    {
      "cell_type": "code",
      "metadata": {
        "colab": {
          "base_uri": "https://localhost:8080/"
        },
        "id": "6mZ6Hlt97JSU",
        "outputId": "d9c6e906-421a-468a-a258-15c8131bfd3b"
      },
      "source": [
        "import math\n",
        "class Ponto:\n",
        "    \"\"\" Cria um novo Ponto, com coordenadas x, y \"\"\"\n",
        "    def __init__(self, x=0, y=0):\n",
        "        \"\"\" Inicializa em x, y o novo ponto criado pela classe \"\"\"\n",
        "        self.x = x\n",
        "        self.y = y\n",
        "    def distancia_da_origem(self):\n",
        "        \"\"\" Calcula minha distânica da origem \"\"\"\n",
        "        return ((self.x ** 2) + (self.y ** 2)) ** 0.5\n",
        "    def inclinacao_da_origem(self):\n",
        "        \"\"\" Retorna a inclinacao da linha que une a origem ao Ponto \"\"\"\n",
        "        tg_theta =  self.y / self.x\n",
        "        theta = math.atan(tg_theta) \n",
        "        return tg_theta     \n",
        "    def __str__(self):\n",
        "        return \"({0}, {1})\".format(self.x, self.y)\n",
        "\n",
        "p1 = Ponto(4,10)  \n",
        "print( p1.inclinacao_da_origem() ) "
      ],
      "execution_count": 37,
      "outputs": [
        {
          "output_type": "stream",
          "text": [
            "2.5\n"
          ],
          "name": "stdout"
        }
      ]
    },
    {
      "cell_type": "markdown",
      "metadata": {
        "id": "GCzRZhoqYLXq"
      },
      "source": [
        "O que pode dar errado com esse programa?\n",
        "\n",
        "4) A equação de uma linha reta é “y = ax + b”. Os coeficientes a e b descrevem completamente a reta. Escreva um método na classe Ponto para que, se uma instância Ponto receber outro Ponto, calcule a equação da linha reta que une os dois pontos. Deve retornar os dois coeficientes como uma tupla de dois valores."
      ]
    },
    {
      "cell_type": "code",
      "metadata": {
        "colab": {
          "base_uri": "https://localhost:8080/"
        },
        "id": "ewKQS4IbYMWG",
        "outputId": "2653a402-c061-409a-f807-56910e6b76d4"
      },
      "source": [
        "class Ponto:\n",
        "    \"\"\" Cria um novo Ponto, com coordenadas x, y \"\"\"\n",
        "    def __init__(self, x=0, y=0):\n",
        "        \"\"\" Inicializa em x, y o novo ponto criado pela classe \"\"\"\n",
        "        self.x = x\n",
        "        self.y = y      \n",
        "    def distancia(self, alvo):\n",
        "        \"\"\" Retorna a distancia entre esse ponto e o alvo \"\"\"\n",
        "        mx = abs(self.x - alvo.x)\n",
        "        my = abs(self.y - alvo.y)\n",
        "        return Ponto(mx, my)\n",
        "    def reta(self, alvo):\n",
        "        \"\"\" Retorna a distancia entre esse ponto e o alvo \"\"\"\n",
        "        a = abs(self.x - alvo.x) / abs(self.y - alvo.y)\n",
        "        b = self.y - a*self.x\n",
        "        print('y =',a,'x +',b )    \n",
        "    def __str__(self):\n",
        "        return \"({0}, {1})\".format(self.x, self.y)\n",
        "\n",
        "p1 = Ponto(1,1)  ;  p2 = Ponto(3,2)\n",
        "print( p1.reta(p2) )\n"
      ],
      "execution_count": 49,
      "outputs": [
        {
          "output_type": "stream",
          "text": [
            "y = 2.0 x + -1.0\n",
            "None\n"
          ],
          "name": "stdout"
        }
      ]
    }
  ]
}