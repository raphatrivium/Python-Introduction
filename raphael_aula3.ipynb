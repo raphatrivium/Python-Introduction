{
  "nbformat": 4,
  "nbformat_minor": 0,
  "metadata": {
    "kernelspec": {
      "display_name": "Python 3",
      "language": "python",
      "name": "python3"
    },
    "language_info": {
      "codemirror_mode": {
        "name": "ipython",
        "version": 3
      },
      "file_extension": ".py",
      "mimetype": "text/x-python",
      "name": "python",
      "nbconvert_exporter": "python",
      "pygments_lexer": "ipython3",
      "version": "3.6.4"
    },
    "colab": {
      "name": "raphael_aula3.ipynb",
      "provenance": [],
      "include_colab_link": true
    }
  },
  "cells": [
    {
      "cell_type": "markdown",
      "metadata": {
        "id": "view-in-github",
        "colab_type": "text"
      },
      "source": [
        "<a href=\"https://colab.research.google.com/github/raphatrivium/Python-Introduction/blob/main/raphael_aula3.ipynb\" target=\"_parent\"><img src=\"https://colab.research.google.com/assets/colab-badge.svg\" alt=\"Open In Colab\"/></a>"
      ]
    },
    {
      "cell_type": "markdown",
      "metadata": {
        "id": "kAzo_U0J1QC4"
      },
      "source": [
        "## Exercícios:\n",
        "1. Crie uma funcão que tome um argumento e imprima o valor e o tipo dele.\n",
        "\n"
      ]
    },
    {
      "cell_type": "code",
      "metadata": {
        "id": "zZyLrdoTaCO5",
        "outputId": "bc76aeb3-9ed6-4dfa-9522-dfeecf1081fb",
        "colab": {
          "base_uri": "https://localhost:8080/",
          "height": 34
        }
      },
      "source": [
        "def potencia(a,b):\n",
        "    c = a**b\n",
        "    print(a,'elevado à',b,'é igual à',c,'. O tipo é', type(c)) \n",
        "potencia(2,3)"
      ],
      "execution_count": null,
      "outputs": [
        {
          "output_type": "stream",
          "text": [
            "2 elevado à 3 é igual à 8 . O tipo é <class 'int'>\n"
          ],
          "name": "stdout"
        }
      ]
    },
    {
      "cell_type": "markdown",
      "metadata": {
        "id": "ALYSJmLvZ2wt"
      },
      "source": [
        "1. Crie uma função que calcule e imprima velocidade media de um objeto a partir de uma posição inicial, a final e o tempo transcorrido para um objeto em MRU. Também crie uma funcão que calcule e imprima a velocidade de um objeto a partir da aceleração constante e o tempo (MRUA) (p.ex. queda libre).\n"
      ]
    },
    {
      "cell_type": "code",
      "metadata": {
        "id": "bhePnJfaaGdo",
        "outputId": "7fb9034f-90e3-4cbf-a7a4-4c170b2c8f76",
        "colab": {
          "base_uri": "https://localhost:8080/",
          "height": 156
        }
      },
      "source": [
        "def velocida_media(S0,Sf,t):\n",
        "    v = (Sf - S0) / t\n",
        "    print('Posição Inicial:',S0,'m')\n",
        "    print('Posição Final:',Sf,'m')\n",
        "    print('tempo:',t,'s')\n",
        "    print('A velocida media é',v,'m/s') \n",
        "velocida_media(50,100,5)\n",
        "\n",
        "def velocidade(v0,t):\n",
        "    a = 9.8\n",
        "    v = v0 + a*t\n",
        "    print('Aceleração Constante:',9.8,'m/s2')\n",
        "    print('Velocidade Inicial:',v0,'m/s')\n",
        "    print('tempo:',t,'s')\n",
        "    print('A velocida é',v,'m/s') \n",
        "velocidade(50,5)"
      ],
      "execution_count": null,
      "outputs": [
        {
          "output_type": "stream",
          "text": [
            "Posição Inicial: 50 m\n",
            "Posição Final: 100 m\n",
            "tempo: 5 s\n",
            "A velocida media é 10.0 m/s\n",
            "Aceleração Constante: 9.8 m/s2\n",
            "Velocidade Inicial: 50 m/s\n",
            "tempo: 5 s\n",
            "A velocida é 99.0 m/s\n"
          ],
          "name": "stdout"
        }
      ]
    },
    {
      "cell_type": "markdown",
      "metadata": {
        "id": "H7a-8eSHZ4Xd"
      },
      "source": [
        "1. Crie uma funcão para calcular o ángulo zenital do sol (da semana passada) tomando como argumento as medidas da altura e o comprimento da sombra.\n"
      ]
    },
    {
      "cell_type": "code",
      "metadata": {
        "id": "J7KeMGaCaMVP",
        "outputId": "db12aaa3-8044-481a-87a6-8566c79adffb",
        "colab": {
          "base_uri": "https://localhost:8080/",
          "height": 69
        }
      },
      "source": [
        "import math\n",
        "def ang_zenital(h,comp):\n",
        "    tg_tetha = h / comp\n",
        "    theta = math.atan(tg_tetha)\n",
        "    theta = math.degrees(theta)\n",
        "    zen = 90-theta\n",
        "    print('Altura:',h,'m')\n",
        "    print('Comprimento:',comp,'m')\n",
        "    print('Angulo Zenital é',zen,'m/s') \n",
        "ang_zenital(2,1)"
      ],
      "execution_count": null,
      "outputs": [
        {
          "output_type": "stream",
          "text": [
            "Altura: 2 m\n",
            "Comprimento: 1 m\n",
            "Angulo Zenital é 26.56505117707799 m/s\n"
          ],
          "name": "stdout"
        }
      ]
    },
    {
      "cell_type": "markdown",
      "metadata": {
        "id": "PaSpae6CZ8hT"
      },
      "source": [
        "1. Crie uma função que faça a conversão de uma medida inicialmente em milhas para m, e outra para o inverso; uma de horas para segundos, e o inverso. Utilize estas funções para resolver novamente o primeiro exercício da semana passada (da corrida). Se uma pessoa demora 30 minutos em 4 milhas, qual velocidade media em km/h ? e o tempo medio por kilometro?\n"
      ]
    },
    {
      "cell_type": "code",
      "metadata": {
        "id": "oUhdzwyaaRQ4",
        "outputId": "adc0cbe4-2679-45f3-e729-4ad1c86e01fa",
        "colab": {
          "base_uri": "https://localhost:8080/",
          "height": 34
        }
      },
      "source": [
        "def mile_to_km(miles):\n",
        "    kilometers = miles*1.61\n",
        "    return kilometers\n",
        "def km_to_mile(kilometers):\n",
        "    miles = kilometers/1.61\n",
        "    return miles\n",
        "def hour_to_min(hours):\n",
        "    minutes = hours*60\n",
        "    return minutes\n",
        "def min_to_hour(minutes):\n",
        "    hours = minutes/60\n",
        "    return hours\n",
        "\n",
        "t = 30 #min\n",
        "miles = 4\n",
        "kilometers = mile_to_km(miles)\n",
        "hours = min_to_hour(t)\n",
        "vel = kilometers/hours\n",
        "print('A velocidade media é',vel,'km/h')"
      ],
      "execution_count": null,
      "outputs": [
        {
          "output_type": "stream",
          "text": [
            "A velocidade media é 12.88 km/h\n"
          ],
          "name": "stdout"
        }
      ]
    },
    {
      "cell_type": "markdown",
      "metadata": {
        "id": "CGY8PaY9Z-G9"
      },
      "source": [
        "1. Crie funções para calcular os outros exemplos das aulas anteriores: IMC, volume de uma esfera, distancia entre pontos de máximos de difração. Decida quais serão os argumentos e o valor retornado."
      ]
    },
    {
      "cell_type": "code",
      "metadata": {
        "id": "2iR4s1nMaYf3",
        "outputId": "d0b61757-9b36-4338-e5b9-edc9b521b79c",
        "colab": {
          "base_uri": "https://localhost:8080/",
          "height": 52
        }
      },
      "source": [
        "def IMC_func(h,mass):\n",
        "    IMC = mass/(h**2)\n",
        "    print(\"IMC é\",IMC)\n",
        "    if IMC > 25:      \n",
        "      print(\"IMC é maior que 25, portanto é uma valor ruim\")\n",
        "    else:\n",
        "      print(\"IMC é menor que 25, portanto é uma valor saudável\")\n",
        "    return IMC\n",
        "IMC_func(1.75,75)\n",
        "def Volume_esfera(r):\n",
        "    pi = 3.1415926535897932\n",
        "    V = (4/3)*pi*(r**3)\n",
        "    print('Volume = ', V)\n",
        "    return V\n",
        "def Delta_y(v_lambda, D, d):\n",
        "    vDelta_y = (value_lambda*D) / d\n",
        "    print('Delta_y =', Delta_y,'m ou',Delta_y*1000,'mm')\n",
        "    return vDelta_y"
      ],
      "execution_count": null,
      "outputs": [
        {
          "output_type": "stream",
          "text": [
            "IMC é 24.489795918367346\n",
            "IMC é menor que 25, portanto é uma valor saudável\n"
          ],
          "name": "stdout"
        }
      ]
    }
  ]
}